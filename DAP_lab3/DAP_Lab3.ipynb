{
 "cells": [
  {
   "cell_type": "raw",
   "metadata": {
    "pycharm": {
     "name": "#%% raw\n"
    }
   },
   "source": [
    "1) Using the type function, determine the datatype of the following literal values:\n",
    "a) 'a'\n",
    "b) 'abcd'\n",
    "c) u'abcd'\n",
    "d) \"x\"\n",
    "e) \"yz\"\n",
    "f) 122\n",
    "g) 02\n",
    "h) 09\n",
    "i) 0x2\n",
    "j) True\n",
    "k) true\n",
    "l) (1,2)\n",
    "m) [\"1\", 2]\n",
    "n) {123: \"abc\", 345: \"alive\"}\n"
   ]
  },
  {
   "cell_type": "code",
   "execution_count": 5,
   "outputs": [
    {
     "name": "stdout",
     "text": [
      "<class 'str'>\n",
      "<class 'str'>\n",
      "<class 'str'>\n",
      "<class 'str'>\n",
      "<class 'str'>\n",
      "<class 'int'>\n",
      "<class 'int'>\n",
      "<class 'bool'>\n",
      "<class 'tuple'>\n",
      "<class 'list'>\n",
      "<class 'dict'>\n"
     ],
     "output_type": "stream"
    }
   ],
   "source": [
    "print(type('a'))\n",
    "print(type('abcd'))\n",
    "print(type(u'abcd'))\n",
    "print(type(\"x\"))\n",
    "print(type(\"yz\"))\n",
    "print(type(122))\n",
    "#type(02)\n",
    "#type(09)\n",
    "print(type(0x2))\n",
    "print(type(True))\n",
    "#type(true)\n",
    "print(type((1,2)))\n",
    "print(type([\"1\",\"2\"]))\n",
    "print(type({123: \"abc\", 345 : \"alive\"}))"
   ],
   "metadata": {
    "collapsed": false,
    "pycharm": {
     "name": "#%%\n",
     "is_executing": false
    }
   }
  },
  {
   "cell_type": "raw",
   "source": [
    "\n",
    "2) Investigate the use of the id function. Enter the following and note the return value in each case. Are the return values equal or unequal? If they are equal, then why is this the case?\n",
    "     x = \"a\"\n",
    "     y = \"a\"\n",
    "     print(id(x))\n",
    "     print(id(y))\n",
    "     x = \"another string\"\n",
    "     y = \"another string\"\n",
    "     print(id(x))\n",
    "     print(id(y))\n",
    "Investigate the immutability and internment of string values in Python.\n"
   ],
   "metadata": {
    "collapsed": false,
    "pycharm": {
     "name": "#%% raw\n"
    }
   }
  },
  {
   "cell_type": "code",
   "execution_count": 4,
   "outputs": [
    {
     "name": "stdout",
     "text": [
      "4427677744\n",
      "4427677744\n",
      "4475610032\n",
      "4475610096\n"
     ],
     "output_type": "stream"
    }
   ],
   "source": [
    "x = \"b\"\n",
    "y = \"b\"\n",
    "print(id(x))\n",
    "print(id(y))\n",
    "x = \"another string\"\n",
    "y = \"another string\"\n",
    "print(id(x))\n",
    "print(id(y))"
   ],
   "metadata": {
    "collapsed": false,
    "pycharm": {
     "name": "#%%\n",
     "is_executing": false
    }
   }
  },
  {
   "cell_type": "raw",
   "metadata": {
    "pycharm": {
     "name": "#%% raw\n"
    }
   },
   "source": [
    "\n",
    "3) Create a list to store the following values: 1, 2, 3, 4, 5, 6 and assign this list to a variable called myList .\n",
    "Print the contents myList .\n",
    "Print the contents of myList in reverse using index slicing. Print the contents of myList in reverse using a loop. Append 10 random integers to myList using a loop. Extend myList with the following list [200, 300] .\n",
    "Store the last number in the list in a variable called lastVal and remove that value from myList . [Note: for this task you should investigate using the pop() method.]\n"
   ]
  },
  {
   "cell_type": "code",
   "execution_count": 3,
   "outputs": [
    {
     "name": "stdout",
     "text": [
      "[1, 2, 3, 4, 5, 6]\n",
      "[6, 5, 4, 3, 2, 1]\n",
      "6\n",
      "5\n",
      "4\n",
      "3\n",
      "2\n",
      "1\n",
      "[1, 2, 3, 4, 5, 6, 18, 17, 15, 19, 19, 18, 12, 11, 19, 12]\n",
      "[1, 2, 3, 4, 5, 6, 18, 17, 15, 19, 19, 18, 12, 11, 19, 12, [200, 300]]\n",
      "[200, 300]\n",
      "[200, 300]\n"
     ],
     "output_type": "stream"
    }
   ],
   "source": [
    "mylist = list(range(1,7))\n",
    "print(mylist)\n",
    "\n",
    "mylist_reverseslicing = mylist[::-1]\n",
    "print(mylist_reverseslicing)\n",
    "\n",
    "# using loop\n",
    "for x in range(5,-1,-1) :\n",
    "    print(mylist[x])\n",
    "\n",
    "import random\n",
    "# appending by random variable\n",
    "for x in range(0, 10, 1) :\n",
    "    mylist.append(random.randint(10,20))\n",
    "\n",
    "print(mylist)\n",
    "\n",
    "mylist.append([200,300])\n",
    "print(mylist)\n",
    "\n",
    "lastVal = mylist[len(mylist) - 1]\n",
    "print(lastVal)\n",
    "\n",
    "mylist.pop()\n",
    "print(lastVal)"
   ],
   "metadata": {
    "collapsed": false,
    "pycharm": {
     "name": "#%%\n",
     "is_executing": false
    }
   }
  },
  {
   "cell_type": "raw",
   "metadata": {
    "pycharm": {
     "name": "#%% raw\n"
    }
   },
   "source": [
    "\n",
    "4) Create an empty dictionary object called myDict . Using a loop structure, add an entry to myDict for each value in myList . The key values for entries in myDict should be integer values commencing at 0 .\n"
   ]
  },
  {
   "cell_type": "code",
   "execution_count": 1,
   "outputs": [
    {
     "name": "stdout",
     "text": [
      "{0: 1, 1: 2, 2: 3, 3: 4, 4: 5, 5: 6}\n"
     ],
     "output_type": "stream"
    }
   ],
   "source": [
    "myDict = dict()\n",
    "mylist = list(range(1,7))\n",
    "index = 0\n",
    "for entry in mylist :\n",
    "    myDict[index] = entry\n",
    "    index = index + 1\n",
    "print(myDict)"
   ],
   "metadata": {
    "collapsed": false,
    "pycharm": {
     "name": "#%%\n",
     "is_executing": false
    }
   }
  },
  {
   "cell_type": "raw",
   "source": [
    "5) Write code to generate the first 6 rows of Pascal’s Triangle. [Note: Please attempt this without accessing an algorithm specification from the web!!! For this task you should implement the required loop controls and use appropriate data-structures. When printing each row ensure that values are separated by a TAB character. ]\n",
    "Your output should be\n",
    "1\n",
    "11\n",
    "121 1331 14641\n",
    "1 5 10 10 5 1\n",
    "Investigate how to define functions in Python. Create a function that will print the first n rows of Pascal’s Triangle.\n"
   ],
   "metadata": {
    "collapsed": false,
    "pycharm": {
     "name": "#%% raw\n"
    }
   }
  },
  {
   "cell_type": "code",
   "execution_count": 2,
   "metadata": {
    "pycharm": {
     "is_executing": false
    }
   },
   "outputs": [
    {
     "name": "stdout",
     "text": [
      "[1]\n",
      "\t\n",
      "[1, 1]\n",
      "\t\n",
      "[1, 2, 1]\n",
      "\t\n",
      "[1, 3, 3, 1]\n",
      "\t\n",
      "[1, 4, 6, 4, 1]\n",
      "\t\n",
      "[1, 5, 10, 10, 5, 1]\n",
      "\t\n",
      "[1, 6, 15, 20, 15, 6, 1]\n",
      "\t\n",
      "[1, 7, 21, 35, 35, 21, 7, 1]\n",
      "\t\n",
      "[1, 8, 28, 56, 70, 56, 28, 8, 1]\n",
      "\t\n",
      "[1, 9, 36, 84, 126, 126, 84, 36, 9, 1]\n",
      "\t\n",
      "0.0\n"
     ],
     "output_type": "stream"
    }
   ],
   "source": [
    "def pascal (n):\n",
    "    for i in range(1,n+1):\n",
    "        v=1\n",
    "        list = []\n",
    "        for j in range(1,i+1):\n",
    "            list.append(int(v))\n",
    "            v=v*(i-j)/j\n",
    "        print(list)\n",
    "        print(\"\\t\")\n",
    "        list.clear()\n",
    "\n",
    "pascal(10)\n",
    "print(1*(10-10)/10)"
   ]
  }
 ],
 "metadata": {
  "kernelspec": {
   "display_name": "Python 3",
   "language": "python",
   "name": "python3"
  },
  "language_info": {
   "codemirror_mode": {
    "name": "ipython",
    "version": 3
   },
   "file_extension": ".py",
   "mimetype": "text/x-python",
   "name": "python",
   "nbconvert_exporter": "python",
   "pygments_lexer": "ipython3",
   "version": "3.7.4"
  },
  "pycharm": {
   "stem_cell": {
    "cell_type": "raw",
    "source": [],
    "metadata": {
     "collapsed": false
    }
   }
  }
 },
 "nbformat": 4,
 "nbformat_minor": 2
}