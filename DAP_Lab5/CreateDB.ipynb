{
 "cells": [
  {
   "cell_type": "raw",
   "source": [
    "Step 1 : Creating Database - weather\n"
   ],
   "metadata": {
    "collapsed": false,
    "pycharm": {
     "name": "#%% raw\n"
    }
   }
  },
  {
   "cell_type": "code",
   "execution_count": 1,
   "metadata": {
    "collapsed": true,
    "pycharm": {
     "is_executing": false
    }
   },
   "outputs": [
    {
     "name": "stdout",
     "text": [
      "Error while connecting to PostgreSQL database \"weather\" already exists\n",
      "\n"
     ],
     "output_type": "stream"
    }
   ],
   "source": [
    "import psycopg2\n",
    "try:\n",
    "    dbConnection = psycopg2.connect(\n",
    "        user = \"dap\",\n",
    "        password = \"dap\",\n",
    "        host = \"192.168.56.30\",\n",
    "        port = \"5432\",\n",
    "        database = \"postgres\")\n",
    "    dbConnection.set_isolation_level(0) # AUTOCOMMIT\n",
    "    dbCursor = dbConnection.cursor()\n",
    "    dbCursor.execute(\"CREATE DATABASE weather;\")\n",
    "    dbCursor.close()\n",
    "except (Exception, psycopg2.Error) as dbError :\n",
    "    print (\"Error while connecting to PostgreSQL\", dbError)\n",
    "finally:\n",
    "    if(dbConnection): dbConnection.close()"
   ]
  },
  {
   "cell_type": "raw",
   "source": [
    "Step 2 : Creating Table - weather\n"
   ],
   "metadata": {
    "collapsed": false
   }
  },
  {
   "cell_type": "code",
   "execution_count": 3,
   "outputs": [
    {
     "name": "stdout",
     "text": [
      "Error while connecting to PostgreSQL relation \"weather\" already exists\n",
      "\n"
     ],
     "output_type": "stream"
    }
   ],
   "source": [
    "import psycopg2\n",
    "createString = \"\"\"\n",
    "CREATE TABLE weather(\n",
    "  date_time timestamp PRIMARY KEY,\n",
    "  rain numeric(5,1),\n",
    "  temp numeric(5,1),\n",
    "  wetb numeric(5,1),\n",
    "  dewpt numeric(5,1),\n",
    "  vapps numeric(5,1),\n",
    "  rhum numeric(5,1),\n",
    "  msl numeric(7,1),\n",
    "  wdsp integer,\n",
    "  wddir integer,\n",
    "  ww integer,\n",
    "  w integer,\n",
    "  sun numeric(5,1),\n",
    "  vis integer,\n",
    "  clht integer,\n",
    "  clamt integer\n",
    ");\n",
    "\"\"\"\n",
    "try:\n",
    "    dbConnection = psycopg2.connect(\n",
    "        user = \"dap\",\n",
    "        password = \"dap\",\n",
    "        host = \"192.168.56.30\",\n",
    "        port = \"5432\",\n",
    "        database = \"weather\")\n",
    "    dbConnection.set_isolation_level(0) # AUTOCOMMIT \n",
    "    dbCursor = dbConnection.cursor() \n",
    "    dbCursor.execute(createString)\n",
    "    dbCursor.close()\n",
    "except (Exception, psycopg2.Error) as dbError :\n",
    "    print (\"Error while connecting to PostgreSQL\", dbError)\n",
    "finally:\n",
    "    if(dbConnection): dbConnection.close()"
   ],
   "metadata": {
    "collapsed": false,
    "pycharm": {
     "name": "#%%\n",
     "is_executing": false
    }
   }
  },
  {
   "cell_type": "raw",
   "source": [
    "Step 3 : Importing CSV and inserting into weather table\n"
   ],
   "metadata": {
    "collapsed": false
   }
  },
  {
   "cell_type": "code",
   "execution_count": 4,
   "outputs": [],
   "source": [
    "import csv\n",
    "try:\n",
    "    dbConnection = psycopg2.connect(\n",
    "        user = \"dap\",\n",
    "        password = \"dap\",\n",
    "        host = \"192.168.56.30\",\n",
    "        port = \"5432\",\n",
    "        database = \"weather\")\n",
    "    dbConnection.set_isolation_level(0) # AUTOCOMMIT\n",
    "    dbCursor = dbConnection.cursor()\n",
    "    insertString = \"INSERT INTO weather VALUES ('{}',\" + \"{},\"*14 + \"{})\" \n",
    "    with open(\"/Users/sobil/Documents/MSC/Sem 1/Database & Analytical Programming/Lab/Lab - 5/weather.csv\", \"r\") as f:\n",
    "        reader = csv.reader(f) \n",
    "        next(reader) # skip the header \n",
    "        for row in reader:\n",
    "            dbCursor.execute(insertString.format(*row))\n",
    "    dbConnection.commit()\n",
    "    dbCursor.close()\n",
    "except (Exception, psycopg2.Error) as dbError :\n",
    "    print (\"Error:\", dbError)\n",
    "finally:\n",
    "    if(dbConnection): dbConnection.close()"
   ],
   "metadata": {
    "collapsed": false,
    "pycharm": {
     "name": "#%%\n",
     "is_executing": false
    }
   }
  },
  {
   "cell_type": "raw",
   "source": [
    "Step 4 : Reading data from weather table and visualizing\n"
   ],
   "metadata": {
    "collapsed": false
   }
  },
  {
   "cell_type": "code",
   "execution_count": 10,
   "outputs": [
    {
     "name": "stdout",
     "text": [
      "   month       temp      wdsp\n",
      "0    1.0   5.047258  2.000000\n",
      "1    2.0   5.231678  2.000000\n",
      "2    3.0   6.100524  2.002151\n",
      "3    4.0   8.088000  1.999722\n",
      "4    5.0  10.867245  2.000000\n"
     ],
     "output_type": "stream"
    },
    {
     "data": {
      "text/plain": "<matplotlib.axes._subplots.AxesSubplot at 0x128f99a90>"
     },
     "metadata": {},
     "output_type": "execute_result",
     "execution_count": 10
    },
    {
     "data": {
      "text/plain": "<Figure size 432x288 with 1 Axes>",
      "image/png": "[encoded data removed]"
     },
     "metadata": {
      "needs_background": "light"
     },
     "output_type": "display_data"
    }
   ],
   "source": [
    "import pandas.io.sql as sqlio\n",
    "import psycopg2\n",
    "sql = \"\"\"\n",
    "SELECT\n",
    "  EXTRACT(MONTH FROM date_time) AS month,\n",
    "  AVG(temp) as temp,\n",
    "  AVG(wdsp) AS wdsp\n",
    "FROM weather\n",
    "GROUP BY\n",
    "  month;\"\"\"\n",
    "try:\n",
    "    dbConnection = psycopg2.connect(\n",
    "        user = \"dap\",\n",
    "        password = \"dap\",\n",
    "        host = \"192.168.56.30\",\n",
    "        port = \"5432\",\n",
    "        database = \"weather\")\n",
    "    weather_dataframe = sqlio.read_sql_query(sql, dbConnection) \n",
    "except (Exception, psycopg2.Error) as dbError :\n",
    "    print (\"Error:\", dbError)\n",
    "finally:\n",
    "    if(dbConnection): dbConnection.close()\n",
    "\n",
    "\n",
    "print(weather_dataframe.head())\n",
    "\n",
    "import seaborn as sns\n",
    "sns.barplot(x=\"month\", y=\"temp\", data=weather_dataframe)"
   ],
   "metadata": {
    "collapsed": false,
    "pycharm": {
     "name": "#%%\n",
     "is_executing": false
    }
   }
  },
  {
   "cell_type": "raw",
   "source": [
    "Step 5 : Reading data and visualizing using scatterplot\n"
   ],
   "metadata": {
    "collapsed": false
   }
  },
  {
   "cell_type": "code",
   "execution_count": 11,
   "outputs": [
    {
     "data": {
      "text/plain": "<Figure size 432x288 with 1 Axes>",
      "image/png": "[encoded data removed]"
     },
     "metadata": {
      "needs_background": "light"
     },
     "output_type": "display_data"
    }
   ],
   "source": [
    "import pandas.io.sql as sqlio\n",
    "import psycopg2\n",
    "import seaborn as sns\n",
    "sql = \"\"\"SELECT date(date_time) AS obs_date, MIN(temp) as temp,\n",
    "MIN(dewpt) as dewpt FROM weather GROUP BY obs_date;\"\"\"\n",
    "try:\n",
    "    dbConnection = psycopg2.connect(\n",
    "        user = \"dap\",\n",
    "        password = \"dap\",\n",
    "        host = \"192.168.56.30\",\n",
    "        port = \"5432\",\n",
    "        database = \"weather\")\n",
    "    weather_dataframe = sqlio.read_sql_query(sql, dbConnection)\n",
    "    sns.scatterplot(x=\"temp\", y=\"dewpt\", data=weather_dataframe); \n",
    "except (Exception, psycopg2.Error) as dbError :\n",
    "    print (\"Error:\", dbError)\n",
    "finally:\n",
    "    if(dbConnection): dbConnection.close()\n"
   ],
   "metadata": {
    "collapsed": false,
    "pycharm": {
     "name": "#%%\n",
     "is_executing": false
    }
   }
  }
 ],
 "metadata": {
  "kernelspec": {
   "display_name": "Python 3",
   "language": "python",
   "name": "python3"
  },
  "language_info": {
   "codemirror_mode": {
    "name": "ipython",
    "version": 2
   },
   "file_extension": ".py",
   "mimetype": "text/x-python",
   "name": "python",
   "nbconvert_exporter": "python",
   "pygments_lexer": "ipython2",
   "version": "2.7.6"
  },
  "pycharm": {
   "stem_cell": {
    "cell_type": "raw",
    "source": [],
    "metadata": {
     "collapsed": false
    }
   }
  }
 },
 "nbformat": 4,
 "nbformat_minor": 0
}