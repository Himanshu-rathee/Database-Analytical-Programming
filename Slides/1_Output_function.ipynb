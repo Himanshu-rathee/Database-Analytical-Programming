{
 "cells": [
  {
   "cell_type": "code",
   "execution_count": 10,
   "metadata": {
    "collapsed": true,
    "pycharm": {
     "is_executing": false
    }
   },
   "outputs": [
    {
     "name": "stdout",
     "text": [
      "Name: Sobil Dalal\n",
      "foo 42 bar\n",
      "foo/42/bar\n",
      "foo...42...bar\n"
     ],
     "output_type": "stream"
    }
   ],
   "source": [
    "# print\n",
    "fname = 'Sobil'\n",
    "lname = 'Dalal'\n",
    "print('Name:', fname, lname)\n",
    "print('foo', 42, 'bar')\n",
    "print('foo', 42, 'bar', sep='/')\n",
    "print('foo', 42, 'bar', sep='...')"
   ]
  },
  {
   "cell_type": "code",
   "execution_count": 11,
   "outputs": [
    {
     "name": "stdout",
     "text": [
      "I want 3 pieces of 567 for 49.00 euro.\n"
     ],
     "output_type": "stream"
    }
   ],
   "source": [
    "# using format\n",
    "quantity = 3\n",
    "itemno = 567\n",
    "price = 49\n",
    "myorder = \"I want {0} pieces of {1} for {2:.2f} euro.\"\n",
    "print(myorder.format(quantity, itemno, price))"
   ],
   "metadata": {
    "collapsed": false,
    "pycharm": {
     "name": "#%%\n",
     "is_executing": false
    }
   }
  },
  {
   "cell_type": "code",
   "execution_count": 12,
   "outputs": [
    {
     "name": "stdout",
     "text": [
      "My name is Sobil and i scored 28 points.\n"
     ],
     "output_type": "stream"
    }
   ],
   "source": [
    "# using f method\n",
    "points = 28\n",
    "print(f\"My name is {fname} and i scored {points} points.\")\n"
   ],
   "metadata": {
    "collapsed": false,
    "pycharm": {
     "name": "#%% \n",
     "is_executing": false
    }
   }
  }
 ],
 "metadata": {
  "kernelspec": {
   "display_name": "Python 3",
   "language": "python",
   "name": "python3"
  },
  "language_info": {
   "codemirror_mode": {
    "name": "ipython",
    "version": 2
   },
   "file_extension": ".py",
   "mimetype": "text/x-python",
   "name": "python",
   "nbconvert_exporter": "python",
   "pygments_lexer": "ipython2",
   "version": "2.7.6"
  },
  "pycharm": {
   "stem_cell": {
    "cell_type": "raw",
    "source": [],
    "metadata": {
     "collapsed": false
    }
   }
  }
 },
 "nbformat": 4,
 "nbformat_minor": 0
}