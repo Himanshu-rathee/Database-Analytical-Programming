{
 "cells": [
  {
   "cell_type": "markdown",
   "metadata": {
    "collapsed": true,
    "pycharm": {
     "name": "#%% md\n"
    }
   },
   "source": [
    "# Question 1 (55 marks)\n",
    "The Austin Animal Rescue dataset is a log of felines (cats) take into their care. The dataset provided on Moodle contains details for 1,000 such animals.\n",
    "   \n",
    "   There are 1,000 records in total. You have been provided with an XML file containing this data (see the Moodle page).\n",
    "      \n",
    " a) Create a function to import this XML file. Your function should include appropriate exception handling clauses. [15 marks]"
   ]
  },
  {
   "cell_type": "code",
   "execution_count": 72,
   "outputs": [
    {
     "name": "stdout",
     "text": [
      "XML file imported successfully\n"
     ],
     "output_type": "stream"
    }
   ],
   "source": [
    "import xml.etree.ElementTree as ET\n",
    "import sys\n",
    "\n",
    "# function to import the xml file; pass file name with path as parameter\n",
    "def importXMl(file) :\n",
    "    tree = ET.parse(file)\n",
    "    root = tree.getroot()\n",
    "    return root\n",
    "\n",
    "try:\n",
    "    # invoking importXMl function\n",
    "    shelter = importXMl(\"./shelter.xml\")\n",
    "# checking for ET.ParseError exception\n",
    "except ET.ParseError:\n",
    "    print(\"Formatting error in XML file\")\n",
    "except FileNotFoundError: \n",
    "        print(\"File not found.Please check the file name or location\")\n",
    "else:\n",
    "    if sys.exc_info()[2] != None :\n",
    "        print(\"Other type of error {}\" .format(sys.exc_info()[2]))\n",
    "    else :\n",
    "        print(\"XML file imported successfully\")"
   ],
   "metadata": {
    "collapsed": false,
    "pycharm": {
     "name": "#%%\n",
     "is_executing": false
    }
   }
  },
  {
   "cell_type": "markdown",
   "source": [
    "b) Use the print function to display the ‘breed’, ‘color’ and ‘coat_pattern’ of the first, third, fifth, seventh and ninth records in the XML dataset. (Hint: you may use the range() function). [10 marks]"
   ],
   "metadata": {
    "collapsed": false,
    "pycharm": {
     "name": "#%% md\n"
    }
   }
  },
  {
   "cell_type": "code",
   "execution_count": 73,
   "outputs": [
    {
     "name": "stdout",
     "text": [
      "Row number ::  1\n",
      "breed : domestic shorthair\n",
      "color : blue /white\n",
      "coat_pattern : tabby\n",
      "\n",
      "Row number ::  3\n",
      "breed : domestic mediumhair\n",
      "color : black/white\n",
      "coat_pattern : None\n",
      "\n",
      "Row number ::  5\n",
      "breed : domestic shorthair\n",
      "color : brown\n",
      "coat_pattern : tabby\n",
      "\n",
      "Row number ::  7\n",
      "breed : domestic shorthair\n",
      "color : black\n",
      "coat_pattern : tabby\n",
      "\n",
      "Row number ::  9\n",
      "breed : domestic mediumhair\n",
      "color : black/white\n",
      "coat_pattern : None\n",
      "\n"
     ],
     "output_type": "stream"
    }
   ],
   "source": [
    "#to get all row in the object\n",
    "row = shelter.findall(\"row\")\n",
    "\n",
    "# to iterate over specific rows, using range method\n",
    "for rw in range(1,10,2):\n",
    "    print(\"Row number :: \", rw)\n",
    "    print(f\"breed : {row[rw].find('breed').text}\")\n",
    "    print(f\"color : {row[rw].find('color').text}\")\n",
    "    print(f\"coat_pattern : {row[rw].find('coat_pattern').text}\\n\")\n",
    "    "
   ],
   "metadata": {
    "collapsed": false,
    "pycharm": {
     "name": "#%%\n",
     "is_executing": false
    }
   }
  },
  {
   "cell_type": "markdown",
   "source": [
    "c) Extract all the XML data and write it to a CSV file. Include appropriate exception handling. Your CSV file should also contain the column names. [30 marks]"
   ],
   "metadata": {
    "collapsed": false,
    "pycharm": {
     "name": "#%% md\n"
    }
   }
  },
  {
   "cell_type": "code",
   "execution_count": 74,
   "outputs": [
    {
     "name": "stdout",
     "text": [
      "File importing/ exporting successful\n",
      "CSV exporting successful\n"
     ],
     "output_type": "stream"
    }
   ],
   "source": [
    "import xmltodict\n",
    "import json\n",
    "\n",
    "# reading the XML as a flat file\n",
    "try:\n",
    "    with open(\"./shelter.xml\",\"r\") as file :\n",
    "        shelter_xml = file.read()\n",
    "        \n",
    "    # writing the XML to JSON\n",
    "    shelter_json = xmltodict.parse(shelter_xml)\n",
    "    with open(\"./shelter.json\",\"w\") as jsonFile :\n",
    "        json.dump(xmltodict.parse(shelter_xml), jsonFile)\n",
    "    \n",
    "    # loading the json\n",
    "    with open('./shelter.json') as shelter_json:\n",
    "        details = json.load(shelter_json)\n",
    "    json_data = details['document']['row']\n",
    "except FileNotFoundError: \n",
    "        print(\"File not found.Please check the file name or location\")\n",
    "else:\n",
    "    if sys.exc_info()[2] != None :\n",
    "        print(\"Other type of error {}\" .format(sys.exc_info()[2]))\n",
    "    else :\n",
    "        print(\"File importing/ exporting successful\")\n",
    "\n",
    "# converting the json to Data Frame\n",
    "\n",
    "# define the dataframe columns\n",
    "col_names = ['ID', 'age_upon_outcome', 'breed', 'color', 'date_of_birth', 'coat_pattern', 'name', 'outcome_type', 'sex_upon_outcome', 'sex']\n",
    "\n",
    "# importing panda\n",
    "import pandas as pd\n",
    "\n",
    "# instantiate the row_details dataframe\n",
    "row_details = pd.DataFrame(columns=col_names)\n",
    "\n",
    "# inserting records in data frame row by row\n",
    "for data in json_data:\n",
    "    ID = data['ID']\n",
    "    age_upon_outcome = data['age_upon_outcome']\n",
    "    breed = data['breed']    \n",
    "    color = data['color']\n",
    "    date_of_birth = data['date_of_birth']\n",
    "    coat_pattern = data['coat_pattern']\n",
    "    name = data['name']\n",
    "    outcome_type = data['outcome_type']    \n",
    "    sex_upon_outcome = data['sex_upon_outcome']\n",
    "    sex = data['sex']\n",
    "    \n",
    "    row_details = row_details.append({\n",
    "        'ID': ID,\n",
    "        'age_upon_outcome': age_upon_outcome,\n",
    "        'breed': breed,\n",
    "        'color' : color,\n",
    "        'date_of_birth': date_of_birth,\n",
    "        'coat_pattern': coat_pattern,\n",
    "        'name': name,\n",
    "        'outcome_type': outcome_type,\n",
    "        'sex_upon_outcome': sex_upon_outcome,\n",
    "        'sex': sex}, ignore_index=True)\n",
    "row_details\n",
    "\n",
    "import csv\n",
    "# dumping data into the CSV\n",
    "try :\n",
    "    row_details.to_csv('./shelter.csv',index= False)\n",
    "except Exception: \n",
    "        print(\"Exception raised while dumping the data frame to csv\")\n",
    "else:\n",
    "    if sys.exc_info()[2] != None :\n",
    "        print(\"Other type of error {}\" .format(sys.exc_info()[2]))\n",
    "    else :\n",
    "        print(\"CSV exporting successful\")\n"
   ],
   "metadata": {
    "collapsed": false,
    "pycharm": {
     "name": "#%%\n",
     "is_executing": false
    }
   }
  },
  {
   "cell_type": "markdown",
   "source": [
    "# Question 2 (25 marks)\n",
    "a) Create a NumPy array filled with 2,000 numbers. Ensure that your array has 500 rows and 4 columns. [5 marks]"
   ],
   "metadata": {
    "collapsed": false,
    "pycharm": {
     "name": "#%% md\n"
    }
   }
  },
  {
   "cell_type": "code",
   "execution_count": 75,
   "outputs": [
    {
     "name": "stdout",
     "text": [
      "shape of array :  (500, 4)\n"
     ],
     "output_type": "stream"
    }
   ],
   "source": [
    "import numpy as np\n",
    "# using arange to create 1 t0 2000 variables\n",
    "array = np.arange(1,2001).reshape(500,4)\n",
    "print(\"shape of array : \", array.shape)"
   ],
   "metadata": {
    "collapsed": false,
    "pycharm": {
     "name": "#%%\n",
     "is_executing": false
    }
   }
  },
  {
   "cell_type": "markdown",
   "source": [
    "b) Using slicing, split this array into 5 separate arrays. The number of rows in each array should be equal, and there should still be 4 columns. [10 marks]"
   ],
   "metadata": {
    "collapsed": false,
    "pycharm": {
     "name": "#%% md\n"
    }
   }
  },
  {
   "cell_type": "code",
   "execution_count": 76,
   "outputs": [
    {
     "name": "stdout",
     "text": [
      "shape of array 1 is (100, 4)\n",
      "shape of array 2 is (100, 4)\n",
      "shape of array 3 is (100, 4)\n",
      "shape of array 4 is (100, 4)\n",
      "shape of array 5 is (100, 4)\n"
     ],
     "output_type": "stream"
    }
   ],
   "source": [
    "# using vsplit method to split the array\n",
    "array1 = array[:100,:]\n",
    "array2 = array[100:200,:]\n",
    "array3 = array[200:300,:]\n",
    "array4 = array[300:400,:]\n",
    "array5 = array[400:500,:]\n",
    "\n",
    "array_split = []\n",
    "array_split.append(array1)\n",
    "array_split.append(array2)\n",
    "array_split.append(array3)\n",
    "array_split.append(array4)\n",
    "array_split.append(array5)\n",
    "\n",
    "for arr in range(0,len(array_split)) :\n",
    "    print(f\"shape of array {arr + 1} is {array_split[arr].shape}\")"
   ],
   "metadata": {
    "collapsed": false,
    "pycharm": {
     "name": "#%%\n",
     "is_executing": false
    }
   }
  },
  {
   "cell_type": "markdown",
   "source": [
    "c) Reshape these 3 of these arrays into any dimensions of your choice. They should all have different dimensions. [5 marks]"
   ],
   "metadata": {
    "collapsed": false
   }
  },
  {
   "cell_type": "code",
   "execution_count": 77,
   "outputs": [
    {
     "name": "stdout",
     "text": [
      "Changed the shape of first 3 array\n",
      "shape of array 1 is (4, 100)\n",
      "shape of array 2 is (50, 8)\n",
      "shape of array 3 is (8, 50)\n",
      "shape of array 4 is (100, 4)\n",
      "shape of array 5 is (100, 4)\n"
     ],
     "output_type": "stream"
    }
   ],
   "source": [
    "array_split[0] = array_split[0].reshape(4,100)\n",
    "array_split[1] = array_split[1].reshape(50,8)\n",
    "array_split[2] = array_split[2].reshape(8,50)\n",
    "\n",
    "print(\"Changed the shape of first 3 array\")\n",
    "for arr in range(0,len(array_split)) :\n",
    "    print(f\"shape of array {arr + 1} is {array_split[arr].shape}\")"
   ],
   "metadata": {
    "collapsed": false,
    "pycharm": {
     "name": "#%%\n",
     "is_executing": false
    }
   }
  },
  {
   "cell_type": "markdown",
   "source": [
    "d) Split 2 of these reshaped arrays horizontally [5 marks]"
   ],
   "metadata": {
    "collapsed": false,
    "pycharm": {
     "name": "#%% md\n"
    }
   }
  },
  {
   "cell_type": "code",
   "execution_count": 78,
   "outputs": [
    {
     "name": "stdout",
     "text": [
      "\n",
      "\n",
      "\n",
      "Spliting done to 4th and 5th array\n"
     ],
     "output_type": "stream"
    }
   ],
   "source": [
    "print(\"\\n\\n\")\n",
    "array_hsplit4 = np.hsplit(array_split[4],2)\n",
    "array_hsplit5 = np.hsplit(array_split[4],4)\n",
    "print(\"Spliting done to 4th and 5th array\")"
   ],
   "metadata": {
    "collapsed": false,
    "pycharm": {
     "name": "#%%\n",
     "is_executing": false
    }
   }
  },
  {
   "cell_type": "markdown",
   "source": [
    "# Question 3 (20 marks)\n",
    "Given the following string:\n",
    "\n",
    "    \"\"\"\n",
    "    All I want is a proper cup of coffee\n",
    "    Made in a proper copper coffee pot\n",
    "    I may be off my dot\n",
    "    But I want a cup of coffee\n",
    "    From a proper coffee pot\n",
    "    Tin coffee pots and iron coffee pots\n",
    "    They’re no use to me\n",
    "    If I can’t have a proper cup of coffee\n",
    "    In a proper copper coffee pot\n",
    "    I’ll have a cup of tea.\n",
    "    \"\"\"\n",
    "    \n",
    "a) Using regular expressions, write a single function to highlight the words “coffee”,“pot” or “pots” if they appear at the end of a line. [15 marks]\n",
    "\n",
    "The text produced by your code look like this:\n",
    "\n",
    "     All I want is a proper cup of {coffee}\n",
    "     Made in a proper copper coffee {pot}\n",
    "     I may be off my dot\n",
    "     But I want a cup of {coffee}\n",
    "     From a proper coffee {pot}\n",
    "     Tin coffee pots and iron coffee {pots}\n",
    "     They’re no use to me\n",
    "     If I can’t have a proper cup of {coffee}\n",
    "    In a proper copper coffee {pot}\n",
    "    I’ll have a cup of tea."
   ],
   "metadata": {
    "collapsed": false,
    "pycharm": {
     "name": "#%% md\n"
    }
   }
  },
  {
   "cell_type": "code",
   "execution_count": 79,
   "outputs": [
    {
     "name": "stdout",
     "text": [
      "\n",
      "All I want is a proper cup of {coffee}\n",
      "Made in a proper copper coffee {pot}\n",
      "I may be off my dot\n",
      "But I want a cup of {coffee}\n",
      "From a proper coffee {pot}\n",
      "Tin coffee pots and iron coffee {pots}\n",
      "They’re no use to me\n",
      "If I can’t have a proper cup of {coffee}\n",
      "In a proper copper coffee {pot}\n",
      "I’ll have a cup of tea.\n"
     ],
     "output_type": "stream"
    }
   ],
   "source": [
    "import re\n",
    "\n",
    "def re_view(pattern, string) :\n",
    "    print(re.compile(pattern, re.M).sub(\"{\\g<0>}\", string.rstrip()))\n",
    "\n",
    "string = '''\n",
    "All I want is a proper cup of coffee\n",
    "Made in a proper copper coffee pot\n",
    "I may be off my dot\n",
    "But I want a cup of coffee\n",
    "From a proper coffee pot\n",
    "Tin coffee pots and iron coffee pots\n",
    "They’re no use to me\n",
    "If I can’t have a proper cup of coffee\n",
    "In a proper copper coffee pot\n",
    "I’ll have a cup of tea.\n",
    "'''\n",
    "\n",
    "re_view(r\"(coffee|pot|pots)$\",string)"
   ],
   "metadata": {
    "collapsed": false,
    "pycharm": {
     "name": "#%%\n",
     "is_executing": false
    }
   }
  },
  {
   "cell_type": "markdown",
   "source": [
    "b) Using regular expressions, write a single function to highlight the words “proper” and “want” regardless of where they are found in a sentence. The words listed in part a) above should also be highlighted but only when they appear at the end of a sentence. [5 marks]\n",
    "\n",
    "The text produced by your code should look like this:\n",
    "\n",
    "   All I {want} is a {proper} cup of {coffee}\n",
    "   Made in a {proper} copper coffee {pot}\n",
    "   I may be off my dot\n",
    "   But I {want} a cup of {coffee}\n",
    "   From a {proper} coffee pot.\n",
    "   Tin coffee pots and iron coffee {pots}\n",
    "   They’re no use to me\n",
    "   If I can’t have a {proper} cup of {coffee}\n",
    "   In a {proper} copper coffee {pot}\n",
    "   I’ll have a cup of tea."
   ],
   "metadata": {
    "collapsed": false
   }
  },
  {
   "cell_type": "code",
   "execution_count": 80,
   "outputs": [
    {
     "name": "stdout",
     "text": [
      "\n",
      "All I {want} is a {proper} cup of {coffee}\n",
      "Made in a {proper} copper coffee {pot}\n",
      "I may be off my dot\n",
      "But I {want} a cup of {coffee}\n",
      "From a {proper} coffee {pot}\n",
      "Tin coffee pots and iron coffee {pots}\n",
      "They’re no use to me\n",
      "If I can’t have a {proper} cup of {coffee}\n",
      "In a {proper} copper coffee {pot}\n",
      "I’ll have a cup of tea.\n"
     ],
     "output_type": "stream"
    }
   ],
   "source": [
    "re_view(r\"((coffee|pot|pots)$|(proper|want))\",string)"
   ],
   "metadata": {
    "collapsed": false,
    "pycharm": {
     "name": "#%%\n",
     "is_executing": false
    }
   }
  }
 ],
 "metadata": {
  "kernelspec": {
   "display_name": "Python 3",
   "language": "python",
   "name": "python3"
  },
  "language_info": {
   "codemirror_mode": {
    "name": "ipython",
    "version": 2
   },
   "file_extension": ".py",
   "mimetype": "text/x-python",
   "name": "python",
   "nbconvert_exporter": "python",
   "pygments_lexer": "ipython2",
   "version": "2.7.6"
  },
  "pycharm": {
   "stem_cell": {
    "cell_type": "raw",
    "source": [],
    "metadata": {
     "collapsed": false
    }
   }
  }
 },
 "nbformat": 4,
 "nbformat_minor": 0
}