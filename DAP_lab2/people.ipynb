{
 "cells": [
  {
   "cell_type": "code",
   "execution_count": 4,
   "metadata": {},
   "outputs": [],
   "source": [
    "import xml.etree.ElementTree as ET\n",
    "import csv\n",
    "\n",
    "tree = ET.parse(\"people.xml\")\n",
    "root = tree.getroot()"
   ]
  },
  {
   "cell_type": "code",
   "execution_count": 5,
   "metadata": {},
   "outputs": [],
   "source": [
    "# open a file for writing\n",
    "Resident_data = open('residentData.csv', 'w')\n",
    "\n",
    "# create the csv writer object\n",
    "csvwriter = csv.writer(Resident_data)\n",
    "resident_head = []"
   ]
  },
  {
   "cell_type": "code",
   "execution_count": 6,
   "metadata": {},
   "outputs": [],
   "source": [
    "count = 0\n",
    "for member in root.findall('Resident'):\n",
    "    resident = []\n",
    "    address_list = []\n",
    "    if count == 0:\n",
    "        name = member.find('Name').tag\n",
    "        resident_head.append(name)\n",
    "        PhoneNumber = member.find('PhoneNumber').tag\n",
    "        resident_head.append(PhoneNumber)\n",
    "        EmailAddress = member.find('EmailAddress').tag\n",
    "        resident_head.append(EmailAddress)\n",
    "        Address = member[3].tag\n",
    "        resident_head.append(Address)\n",
    "        csvwriter.writerow(resident_head)\n",
    "    count = count + 1\n",
    "\n",
    "    name = member.find('Name').text\n",
    "    resident.append(name)\n",
    "    PhoneNumber = member.find('PhoneNumber').text\n",
    "    resident.append(PhoneNumber)\n",
    "    EmailAddress = member.find('EmailAddress').text\n",
    "    resident.append(EmailAddress)\n",
    "    Address = member[3][0].text\n",
    "    address_list.append(Address)\n",
    "    City = member[3][1].text\n",
    "    address_list.append(City)\n",
    "    StateCode = member[3][2].text\n",
    "    address_list.append(StateCode)\n",
    "PostalCode = member[3][3].text\n",
    "\taddress_list.append(PostalCode)\n",
    "\tresident.append(address_list)\n",
    "\tcsvwriter.writerow(resident)\n",
    "Resident_data.close()"
   ]
  },
  {
   "cell_type": "code",
   "execution_count": null,
   "metadata": {},
   "outputs": [],
   "source": []
  }
 ],
 "metadata": {
  "kernelspec": {
   "display_name": "Python 3",
   "language": "python",
   "name": "python3"
  },
  "language_info": {
   "codemirror_mode": {
    "name": "ipython",
    "version": 3
   },
   "file_extension": ".py",
   "mimetype": "text/x-python",
   "name": "python",
   "nbconvert_exporter": "python",
   "pygments_lexer": "ipython3",
   "version": "3.7.4"
  },
  "pycharm": {
   "stem_cell": {
    "cell_type": "raw",
    "source": [],
    "metadata": {
     "collapsed": false
    }
   }
  }
 },
 "nbformat": 4,
 "nbformat_minor": 2
}