{
 "cells": [
  {
   "cell_type": "raw",
   "metadata": {
    "pycharm": {
     "name": "#%% raw\n"
    }
   },
   "source": [
    "\n",
    "1) Using a lambda expression, complete the mul_by_num function. This function should take an argument and return a one argument function that multiplies any value passed to it by the original number. Its body must be one line long:\n",
    "   def mul_by_num(num):\n",
    "       \"\"\"\n",
    "Returns a function that takes one argument and returns num\n",
    "       times that argument.\n",
    "       >>> x = mul_by_num(5)\n",
    "       >>> y = mul_by_num(2)\n",
    "       >>> x(3)\n",
    "       15\n",
    "       >>> y(-4)\n",
    "       -8\n",
    "       \"\"\"\n",
    "       \"*** YOUR CODE HERE ***\"\n",
    "       return ______\n"
   ]
  },
  {
   "cell_type": "code",
   "execution_count": 6,
   "outputs": [
    {
     "name": "stdout",
     "text": [
      "15\n",
      "-8\n"
     ],
     "output_type": "stream"
    }
   ],
   "source": [
    "def mul_by_num(num) :\n",
    "    return lambda n : n * num\n",
    "x = mul_by_num(5)\n",
    "y = mul_by_num(2)\n",
    "print(x(3))\n",
    "print(y(-4))"
   ],
   "metadata": {
    "collapsed": false,
    "pycharm": {
     "name": "#%%\n",
     "is_executing": false
    }
   }
  },
  {
   "cell_type": "code",
   "execution_count": 7,
   "metadata": {
    "pycharm": {
     "is_executing": false
    }
   },
   "outputs": [
    {
     "name": "stdout",
     "text": [
      "0\n",
      "1\n",
      "1\n",
      "2\n",
      "3\n",
      "5\n",
      "8\n",
      "13\n",
      "21\n",
      "34\n"
     ],
     "output_type": "stream"
    }
   ],
   "source": [
    "'''\n",
    "2) The Fibonacci numbers are the numbers in the following integer sequence. 0, 1, 1, 2, 3, 5, 8, 13, 21, 34, 55, 89, 144, ........\n",
    "In mathematical terms, the sequence Fn of Fibonacci numbers is defined by the recurrence relation:\n",
    "Fn=Fn-1+Fn-2withseedvalues F0=0andF1=1.\n",
    "Find the series of Fibonacci numbers using lambda function.\n",
    "'''\n",
    "\n",
    "n = int(input(\"Please enter the lenght of fibonacci sequence = \"))\n",
    "fibVal = lambda n : (fib(n-1) + fib(n-2))\n",
    "def fib(n):\n",
    "    if n ==0 :\n",
    "        return 0\n",
    "    elif n == 1 :\n",
    "        return 1\n",
    "    else :\n",
    "        return fibVal(n)\n",
    "for x in range (n) :\n",
    "    print(fib(x))"
   ]
  },
  {
   "cell_type": "code",
   "execution_count": 8,
   "metadata": {
    "pycharm": {
     "is_executing": false
    }
   },
   "outputs": [
    {
     "name": "stdout",
     "text": [
      "Page found\n"
     ],
     "output_type": "stream"
    }
   ],
   "source": [
    "'''\n",
    "3) Create a script that check if a page is present on the server or return an error. Use the urllib seen during the lecture.\n",
    "'''\n",
    "\n",
    "import urllib.request\n",
    "import urllib.error as er\n",
    "try :\n",
    "    with urllib.request.urlopen(\"http://goggle.com\") as response:\n",
    "        if response.code == 200:\n",
    "            print(\"Page found\")\n",
    "        else :\n",
    "            print(\"Page not found\")\n",
    "except (ConnectionRefusedError, er.URLError) as fl:\n",
    "    print(fl)"
   ]
  },
  {
   "cell_type": "code",
   "execution_count": 9,
   "metadata": {
    "pycharm": {
     "is_executing": false
    }
   },
   "outputs": [
    {
     "name": "stdout",
     "text": [
      "coord : {'lon': -121.94, 'lat': 37.7}\n",
      "weather : [{'id': 804, 'main': 'Clouds', 'description': 'overcast clouds', 'icon': '04d'}]\n",
      "base : stations\n",
      "main : {'temp': 286.73, 'feels_like': 282.27, 'temp_min': 284.26, 'temp_max': 288.71, 'pressure': 1015, 'humidity': 47}\n",
      "visibility : 16093\n",
      "wind : {'speed': 4.1, 'deg': 230}\n",
      "clouds : {'all': 90}\n",
      "dt : 1583712999\n",
      "sys : {'type': 1, 'id': 4774, 'country': 'US', 'sunrise': 1583677708, 'sunset': 1583719712}\n",
      "timezone : -25200\n",
      "id : 5344157\n",
      "name : Dublin\n",
      "cod : 200\n"
     ],
     "output_type": "stream"
    }
   ],
   "source": [
    "'''\n",
    "4) Write a program to get the current weather of a city given in input. You can use the following API documentation:\n",
    " \n",
    "https://openweathermap.org/current\n",
    "Hint: The GET request should have the following string appended at the end of the query for auth: APPID=b35975e18dc93725acb092f7272cc6b8\n",
    "You should retrieve for the city:\n",
    "      Temperature: 12.32°C\n",
    "      Wind speed: 8.7 m/s\n",
    "      Description: moderate rain\n",
    "      Weather: Rain\n",
    "'''\n",
    "\n",
    "import requests\n",
    "key = \"b35975e18dc93725acb092f7272cc6b8\"\n",
    "cty = str(input(\"Please enter the city name : \"))\n",
    "url = \"https://api.openweathermap.org/data/2.5/weather?q={city_name}&appid={api_key}\".format(city_name = cty, api_key = key)\n",
    "try :\n",
    "    response = requests.get(url)\n",
    "    response_json = response.json()\n",
    "    for k in response_json.keys() : \n",
    "        print(\"{key} : {value}\".format(key = k,value = response_json[k]))\n",
    "except :\n",
    "    print(\"ERROR\")"
   ]
  },
  {
   "cell_type": "raw",
   "metadata": {
    "pycharm": {
     "is_executing": false,
     "name": "#%% raw\n"
    }
   },
   "source": [
    "Write a program to read the xml file people.xml and output a csv file and json file with the same information.\n",
    "Validate the Json using https://jsonlint.com/ Import the CSV using Excel\n"
   ]
  },
  {
   "cell_type": "code",
   "execution_count": 15,
   "outputs": [
    {
     "name": "stdout",
     "text": [
      "Resident {'Id': '100'}\n",
      "Resident {'Id': '101'}\n",
      "Resident {'Id': '103'}\n",
      "Resident {'Id': '104'}\n",
      "Resident {'Id': '105'}\n",
      "Resident {'Id': '106'}\n",
      "Resident {'Id': '107'}\n",
      "Resident {'Id': '108'}\n",
      "['State', 'Resident', 'Name', 'PhoneNumber', 'EmailAddress', 'Address', 'StreetLine1', 'City', 'StateCode', 'PostalCode', 'Resident', 'Name', 'PhoneNumber', 'EmailAddress', 'Address', 'StreetLine1', 'City', 'StateCode', 'PostalCode', 'Resident', 'Name', 'PhoneNumber', 'EmailAddress', 'Address', 'StreetLine1', 'City', 'StateCode', 'PostalCode', 'Resident', 'Name', 'PhoneNumber', 'EmailAddress', 'Address', 'StreetLine1', 'City', 'StateCode', 'PostalCode', 'Resident', 'Name', 'PhoneNumber', 'EmailAddress', 'Address', 'StreetLine1', 'City', 'StateCode', 'PostalCode', 'Resident', 'Name', 'PhoneNumber', 'EmailAddress', 'Address', 'StreetLine1', 'City', 'StateCode', 'PostalCode', 'Resident', 'Name', 'PhoneNumber', 'EmailAddress', 'Address', 'StreetLine1', 'City', 'StateCode', 'PostalCode', 'Resident', 'Name', 'PhoneNumber', 'EmailAddress', 'Address', 'StreetLine1', 'City', 'StateCode', 'PostalCode']\n",
      "\n",
      "\n",
      " <?xml version='1.0' encoding='utf8'?>\n",
      "<State>\n",
      "<Resident Id=\"100\">\n",
      "<Name>Sample Name</Name>\n",
      "<PhoneNumber>12345642357891</PhoneNumber>\n",
      "<EmailAddress>sample_name@example.com</EmailAddress>\n",
      "<Address>\n",
      "<StreetLine1>Street Line1</StreetLine1>\n",
      "<City>City Name</City>\n",
      "<StateCode>AE</StateCode>\n",
      "<PostalCode>12345</PostalCode>\n",
      "</Address>\n",
      "</Resident>\n",
      "<Resident Id=\"101\">\n",
      "<Name>Sample Name1</Name>\n",
      "<PhoneNumber>1234567891</PhoneNumber>\n",
      "<EmailAddress>sample_name1@example.com</EmailAddress>\n",
      "<Address>\n",
      "<StreetLine1>Current Address</StreetLine1>\n",
      "<City>Los Angeles</City>\n",
      "<StateCode>CA</StateCode>\n",
      "<PostalCode>56666</PostalCode>\n",
      "</Address>\n",
      "</Resident>\n",
      "<Resident Id=\"103\">\n",
      "<Name>Sample Name2</Name>\n",
      "<PhoneNumber>1234567891</PhoneNumber>\n",
      "<EmailAddress>sample_name1@example.com</EmailAddress>\n",
      "<Address>\n",
      "<StreetLine1>Current Address</StreetLine1>\n",
      "<City>Los Angeles</City>\n",
      "<StateCode>CA</StateCode>\n",
      "<PostalCode>56666</PostalCode>\n",
      "</Address>\n",
      "</Resident>\n",
      "<Resident Id=\"104\">\n",
      "<Name>Sample Name3</Name>\n",
      "<PhoneNumber>1234567891</PhoneNumber>\n",
      "<EmailAddress>sample_name1@example.com</EmailAddress>\n",
      "<Address>\n",
      "<StreetLine1>Current Address</StreetLine1>\n",
      "<City>Los Angeles</City>\n",
      "<StateCode>CA</StateCode>\n",
      "<PostalCode>56666</PostalCode>\n",
      "</Address>\n",
      "</Resident>\n",
      "<Resident Id=\"105\">\n",
      "<Name>Sample Name4</Name>\n",
      "<PhoneNumber>1234567891</PhoneNumber>\n",
      "<EmailAddress>sample_name1@example.com</EmailAddress>\n",
      "<Address>\n",
      "<StreetLine1>Current Address</StreetLine1>\n",
      "<City>Los Angeles</City>\n",
      "<StateCode>CA</StateCode>\n",
      "<PostalCode>56666</PostalCode>\n",
      "</Address>\n",
      "</Resident>\n",
      "<Resident Id=\"106\">\n",
      "<Name>Sample Name5</Name>\n",
      "<PhoneNumber>1234567891</PhoneNumber>\n",
      "<EmailAddress>sample_name1@example.com</EmailAddress>\n",
      "<Address>\n",
      "<StreetLine1>Current Address</StreetLine1>\n",
      "<City>Los Angeles</City>\n",
      "<StateCode>CA</StateCode>\n",
      "<PostalCode>56666</PostalCode>\n",
      "</Address>\n",
      "</Resident>\n",
      "<Resident Id=\"107\">\n",
      "<Name>Sample Name6</Name>\n",
      "<PhoneNumber>1234567891</PhoneNumber>\n",
      "<EmailAddress>sample_name1@example.com</EmailAddress>\n",
      "<Address>\n",
      "<StreetLine1>Current Address</StreetLine1>\n",
      "<City>Los Angeles</City>\n",
      "<StateCode>CA</StateCode>\n",
      "<PostalCode>56666</PostalCode>\n",
      "</Address>\n",
      "</Resident>\n",
      "<Resident Id=\"108\">\n",
      "<Name>Sample Name7</Name>\n",
      "<PhoneNumber>1234567891</PhoneNumber>\n",
      "<EmailAddress>sample_name1@example.com</EmailAddress>\n",
      "<Address>\n",
      "<StreetLine1>Current Address</StreetLine1>\n",
      "<City>Los Angeles</City>\n",
      "<StateCode>CA</StateCode>\n",
      "<PostalCode>56666</PostalCode>\n",
      "</Address>\n",
      "</Resident>\n",
      "</State>\n",
      "Sample Name\n",
      "Sample Name1\n",
      "Sample Name2\n",
      "Sample Name3\n",
      "Sample Name4\n",
      "Sample Name5\n",
      "Sample Name6\n",
      "Sample Name7\n"
     ],
     "output_type": "stream"
    }
   ],
   "source": [
    "import pandas as pd\n",
    "import xml.etree.ElementTree as ET\n",
    "file = ET.parse(\"/Users/sobil/Documents/MSC/Sem 1/Database & Analytical Programming/Lab/Lab - 2/people.xml\")\n",
    "people = file.getroot()\n",
    "for child in people:\n",
    "    print(child.tag, child.attrib)\n",
    "\n",
    "# checking all elements\n",
    "print ([elem.tag for elem in people.iter()])\n",
    "\n",
    "# print whole file\n",
    "print(\"\\n\\n\", ET.tostring(people, encoding='utf8').decode('utf8'))\n",
    "\n",
    "# fetching particular fields\n",
    "for person in people.iter(\"Name\") :\n",
    "    print(person.text)\n"
   ],
   "metadata": {
    "collapsed": false,
    "pycharm": {
     "name": "#%%\n",
     "is_executing": false
    }
   }
  },
  {
   "cell_type": "code",
   "execution_count": 11,
   "outputs": [
    {
     "name": "stdout",
     "text": [
      "<?xml version='1.0' encoding='utf8'?>\n",
      "<State>\n",
      "<Resident Id=\"100\">\n",
      "<Name>Sample Name</Name>\n",
      "<PhoneNumber>12345642357891</PhoneNumber>\n",
      "<EmailAddress>sample_name@example.com</EmailAddress>\n",
      "<Address>\n",
      "<StreetLine1>Street Line1</StreetLine1>\n",
      "<City>City Name</City>\n",
      "<StateCode>AE</StateCode>\n",
      "<PostalCode>12345</PostalCode>\n",
      "</Address>\n",
      "</Resident>\n",
      "<Resident Id=\"101\">\n",
      "<Name>Sample Name1</Name>\n",
      "<PhoneNumber>1234567891</PhoneNumber>\n",
      "<EmailAddress>sample_name1@example.com</EmailAddress>\n",
      "<Address>\n",
      "<StreetLine1>Current Address</StreetLine1>\n",
      "<City>Los Angeles</City>\n",
      "<StateCode>CA</StateCode>\n",
      "<PostalCode>56666</PostalCode>\n",
      "</Address>\n",
      "</Resident>\n",
      "<Resident Id=\"103\">\n",
      "<Name>Sample Name2</Name>\n",
      "<PhoneNumber>1234567891</PhoneNumber>\n",
      "<EmailAddress>sample_name1@example.com</EmailAddress>\n",
      "<Address>\n",
      "<StreetLine1>Current Address</StreetLine1>\n",
      "<City>Los Angeles</City>\n",
      "<StateCode>CA</StateCode>\n",
      "<PostalCode>56666</PostalCode>\n",
      "</Address>\n",
      "</Resident>\n",
      "<Resident Id=\"104\">\n",
      "<Name>Sample Name3</Name>\n",
      "<PhoneNumber>1234567891</PhoneNumber>\n",
      "<EmailAddress>sample_name1@example.com</EmailAddress>\n",
      "<Address>\n",
      "<StreetLine1>Current Address</StreetLine1>\n",
      "<City>Los Angeles</City>\n",
      "<StateCode>CA</StateCode>\n",
      "<PostalCode>56666</PostalCode>\n",
      "</Address>\n",
      "</Resident>\n",
      "<Resident Id=\"105\">\n",
      "<Name>Sample Name4</Name>\n",
      "<PhoneNumber>1234567891</PhoneNumber>\n",
      "<EmailAddress>sample_name1@example.com</EmailAddress>\n",
      "<Address>\n",
      "<StreetLine1>Current Address</StreetLine1>\n",
      "<City>Los Angeles</City>\n",
      "<StateCode>CA</StateCode>\n",
      "<PostalCode>56666</PostalCode>\n",
      "</Address>\n",
      "</Resident>\n",
      "<Resident Id=\"106\">\n",
      "<Name>Sample Name5</Name>\n",
      "<PhoneNumber>1234567891</PhoneNumber>\n",
      "<EmailAddress>sample_name1@example.com</EmailAddress>\n",
      "<Address>\n",
      "<StreetLine1>Current Address</StreetLine1>\n",
      "<City>Los Angeles</City>\n",
      "<StateCode>CA</StateCode>\n",
      "<PostalCode>56666</PostalCode>\n",
      "</Address>\n",
      "</Resident>\n",
      "<Resident Id=\"107\">\n",
      "<Name>Sample Name6</Name>\n",
      "<PhoneNumber>1234567891</PhoneNumber>\n",
      "<EmailAddress>sample_name1@example.com</EmailAddress>\n",
      "<Address>\n",
      "<StreetLine1>Current Address</StreetLine1>\n",
      "<City>Los Angeles</City>\n",
      "<StateCode>CA</StateCode>\n",
      "<PostalCode>56666</PostalCode>\n",
      "</Address>\n",
      "</Resident>\n",
      "<Resident Id=\"108\">\n",
      "<Name>Sample Name7</Name>\n",
      "<PhoneNumber>1234567891</PhoneNumber>\n",
      "<EmailAddress>sample_name1@example.com</EmailAddress>\n",
      "<Address>\n",
      "<StreetLine1>Current Address</StreetLine1>\n",
      "<City>Los Angeles</City>\n",
      "<StateCode>CA</StateCode>\n",
      "<PostalCode>56666</PostalCode>\n",
      "</Address>\n",
      "</Resident>\n",
      "</State>\n"
     ],
     "output_type": "stream"
    }
   ],
   "source": [
    "# answer\n",
    "import xml.etree.ElementTree as ET\n",
    "file = ET.parse(\"/Users/sobil/Documents/MSC/Sem 1/Database & Analytical Programming/Lab/Lab - 2/people.xml\")\n",
    "people = file.getroot()\n",
    "print(ET.tostring(people, encoding='utf8').decode('utf8'))"
   ],
   "metadata": {
    "collapsed": false,
    "pycharm": {
     "name": "#%%\n",
     "is_executing": false
    }
   }
  },
  {
   "cell_type": "code",
   "execution_count": 12,
   "outputs": [],
   "source": [
    "# write to csv\n",
    "### Convert XML to JSON and CSV\n",
    "import csv\n",
    "import json\n",
    "import xmltodict\n",
    "import pandas as pd\n",
    "\n",
    "with open(\"./people.xml\",\"r\") as file :\n",
    "    xml = file.read()\n",
    "    \n",
    "#### Convert to JSON\n",
    "with open(\"./people.json\",\"w\") as jsonFile :\n",
    "    json.dump(xmltodict.parse(xml), jsonFile)\n",
    "    "
   ],
   "metadata": {
    "collapsed": false,
    "pycharm": {
     "name": "#%%\n",
     "is_executing": false
    }
   }
  },
  {
   "cell_type": "code",
   "execution_count": 14,
   "outputs": [],
   "source": [
    "import csv \n",
    "\n",
    "# open a file for writing\n",
    "Resident_data = open('residentData.csv', 'w')\n",
    "\n",
    "# create the csv writer object\n",
    "csvwriter = csv.writer(Resident_data)\n",
    "resident_head = []\n",
    "count = 0\n",
    "for member in people.findall('Resident'):\n",
    "    resident = []\n",
    "    address_list = []\n",
    "    if count == 0:\n",
    "        name = member.find('Name').tag\n",
    "        resident_head.append(name)\n",
    "        PhoneNumber = member.find('PhoneNumber').tag\n",
    "        resident_head.append(PhoneNumber)\n",
    "        EmailAddress = member.find('EmailAddress').tag\n",
    "        resident_head.append(EmailAddress)\n",
    "        Address = member[3].tag\n",
    "        resident_head.append(Address)\n",
    "        csvwriter.writerow(resident_head)\n",
    "    count = count + 1\n",
    "\n",
    "    name = member.find('Name').text\n",
    "    resident.append(name)\n",
    "    PhoneNumber = member.find('PhoneNumber').text\n",
    "    resident.append(PhoneNumber)\n",
    "    EmailAddress = member.find('EmailAddress').text\n",
    "    resident.append(EmailAddress)\n",
    "    Address = member[3][0].text\n",
    "    address_list.append(Address)\n",
    "    City = member[3][1].text\n",
    "    address_list.append(City)\n",
    "    StateCode = member[3][2].text\n",
    "    address_list.append(StateCode)\n",
    "    PostalCode = member[3][3].text\n",
    "    address_list.append(PostalCode)\n",
    "    resident.append(address_list)\n",
    "    csvwriter.writerow(resident)\n",
    "Resident_data.close()"
   ],
   "metadata": {
    "collapsed": false,
    "pycharm": {
     "name": "#%%\n",
     "is_executing": false
    }
   }
  }
 ],
 "metadata": {
  "kernelspec": {
   "display_name": "Python 3",
   "language": "python",
   "name": "python3"
  },
  "language_info": {
   "codemirror_mode": {
    "name": "ipython",
    "version": 3
   },
   "file_extension": ".py",
   "mimetype": "text/x-python",
   "name": "python",
   "nbconvert_exporter": "python",
   "pygments_lexer": "ipython3",
   "version": "3.7.4"
  },
  "pycharm": {
   "stem_cell": {
    "cell_type": "raw",
    "source": [],
    "metadata": {
     "collapsed": false
    }
   }
  }
 },
 "nbformat": 4,
 "nbformat_minor": 2
}