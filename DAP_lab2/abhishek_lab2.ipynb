{
 "cells": [
  {
   "cell_type": "code",
   "execution_count": null,
   "metadata": {},
   "outputs": [],
   "source": [
    "def mul_by_num(num):\n",
    "    return lambda n: n*num\n",
    "    \n",
    "x = mul_by_num(5)\n",
    "y = mul_by_num(2)\n",
    "x(3)\n",
    "y(-4)"
   ]
  },
  {
   "cell_type": "markdown",
   "metadata": {},
   "source": [
    "### Fibonacci Series"
   ]
  },
  {
   "cell_type": "code",
   "execution_count": null,
   "metadata": {},
   "outputs": [],
   "source": [
    "def fib(num):\n",
    "    y = [0,1]\n",
    "    if num <= 1:  \n",
    "       return num\n",
    "    else:\n",
    "        any((map(lambda _: y.append(sum(y[-2:])), range(2, num)))\n",
    "        return y[:num]\n",
    "\n",
    "\n",
    "x= int(input(\"Enter the Value of N for Fibonacci Series: \"))\n",
    "fib(x)"
   ]
  },
  {
   "cell_type": "markdown",
   "metadata": {},
   "source": [
    "### Page Check"
   ]
  },
  {
   "cell_type": "code",
   "execution_count": null,
   "metadata": {},
   "outputs": [],
   "source": [
    "import urllib.request\n",
    "url_check = input(\"Enter the complete URL: \")\n",
    "try:\n",
    "    with urllib.request.urlopen(url_check) as res:\n",
    "        print(\"Response code: {}\".format(res.code))\n",
    "        if (res.code != 200):\n",
    "            print(\"The WebPage is Not Available\")\n",
    "        else:\n",
    "            print(\"The WebPage is available\")\n",
    "except:\n",
    "    print(\"The Website is invalid\")\n",
    "    \n",
    "   "
   ]
  },
  {
   "cell_type": "markdown",
   "metadata": {},
   "source": [
    "### Weather Map"
   ]
  },
  {
   "cell_type": "code",
   "execution_count": null,
   "metadata": {
    "scrolled": true
   },
   "outputs": [],
   "source": [
    "import requests\n",
    "import pandas as pd\n",
    "from pandas.io.json import json_normalize\n",
    "city = input(\"Enter the City: \")\n",
    "print(city + ' .... OK!')\n",
    "url = 'http://api.openweathermap.org/data/2.5/weather?q={}&APPID=b35975e18dc93725acb092f7272cc6b8'.format(city)\n",
    "results = requests.get(url).json()\n",
    "#results\n",
    "temperature = str(round(float(results['main']['temp'])-273.15))\n",
    "wind_spd = str(results['wind']['speed'])\n",
    "description = str(results['weather'][0]['description'])\n",
    "weather = str(results['weather'][0]['main'])\n",
    "print(\"Temperature: {}°C\\n Wind Speed: {} m/s\\n Description: {}\\n Weather: {}\".format(temperature,wind_spd,description,weather))\n",
    "\n",
    "\n"
   ]
  },
  {
   "cell_type": "code",
   "execution_count": null,
   "metadata": {},
   "outputs": [],
   "source": [
    "pip install xmltodict"
   ]
  },
  {
   "cell_type": "markdown",
   "metadata": {},
   "source": [
    "### Convert XML to JSON and CSV"
   ]
  },
  {
   "cell_type": "code",
   "execution_count": 2,
   "metadata": {},
   "outputs": [],
   "source": [
    "import xmltodict\n",
    "import json\n",
    "import csv\n",
    "import pandas as pd\n",
    "with open('people.xml') as in_file:\n",
    "    xml = in_file.read()"
   ]
  },
  {
   "cell_type": "markdown",
   "metadata": {},
   "source": [
    "#### Convert to JSON"
   ]
  },
  {
   "cell_type": "code",
   "execution_count": 3,
   "metadata": {},
   "outputs": [],
   "source": [
    "with open('people.json', 'w') as out_file:\n",
    "    json.dump(xmltodict.parse(xml), out_file)"
   ]
  },
  {
   "cell_type": "code",
   "execution_count": 4,
   "metadata": {},
   "outputs": [
    {
     "data": {
      "text/plain": [
       "{'@Id': '100',\n",
       " 'Name': 'Sample Name',\n",
       " 'PhoneNumber': '12345642357891',\n",
       " 'EmailAddress': 'sample_name@example.com',\n",
       " 'Address': {'StreetLine1': 'Street Line1',\n",
       "  'City': 'City Name',\n",
       "  'StateCode': 'AE',\n",
       "  'PostalCode': '12345'}}"
      ]
     },
     "execution_count": 4,
     "metadata": {},
     "output_type": "execute_result"
    }
   ],
   "source": [
    "with open('people.json') as json_data:\n",
    "    details = json.load(json_data)\n",
    "user_data = details['State']['Resident']\n",
    "user_data[0]"
   ]
  },
  {
   "cell_type": "markdown",
   "metadata": {},
   "source": [
    "### Convert JSON to DataFrame"
   ]
  },
  {
   "cell_type": "code",
   "execution_count": 6,
   "metadata": {},
   "outputs": [
    {
     "data": {
      "text/html": [
       "<div>\n",
       "<style scoped>\n",
       "    .dataframe tbody tr th:only-of-type {\n",
       "        vertical-align: middle;\n",
       "    }\n",
       "\n",
       "    .dataframe tbody tr th {\n",
       "        vertical-align: top;\n",
       "    }\n",
       "\n",
       "    .dataframe thead th {\n",
       "        text-align: right;\n",
       "    }\n",
       "</style>\n",
       "<table border=\"1\" class=\"dataframe\">\n",
       "  <thead>\n",
       "    <tr style=\"text-align: right;\">\n",
       "      <th></th>\n",
       "      <th>ID</th>\n",
       "      <th>Name</th>\n",
       "      <th>PhoneNumber</th>\n",
       "      <th>EmailAddress</th>\n",
       "      <th>Address</th>\n",
       "      <th>City</th>\n",
       "      <th>StateCode</th>\n",
       "      <th>PostalCode</th>\n",
       "    </tr>\n",
       "  </thead>\n",
       "  <tbody>\n",
       "    <tr>\n",
       "      <td>0</td>\n",
       "      <td>100</td>\n",
       "      <td>Sample Name</td>\n",
       "      <td>12345642357891</td>\n",
       "      <td>sample_name@example.com</td>\n",
       "      <td>Street Line1</td>\n",
       "      <td>City Name</td>\n",
       "      <td>AE</td>\n",
       "      <td>12345</td>\n",
       "    </tr>\n",
       "    <tr>\n",
       "      <td>1</td>\n",
       "      <td>101</td>\n",
       "      <td>Sample Name1</td>\n",
       "      <td>1234567891</td>\n",
       "      <td>sample_name1@example.com</td>\n",
       "      <td>Current Address</td>\n",
       "      <td>Los Angeles</td>\n",
       "      <td>CA</td>\n",
       "      <td>56666</td>\n",
       "    </tr>\n",
       "    <tr>\n",
       "      <td>2</td>\n",
       "      <td>103</td>\n",
       "      <td>Sample Name2</td>\n",
       "      <td>1234567891</td>\n",
       "      <td>sample_name1@example.com</td>\n",
       "      <td>Current Address</td>\n",
       "      <td>Los Angeles</td>\n",
       "      <td>CA</td>\n",
       "      <td>56666</td>\n",
       "    </tr>\n",
       "    <tr>\n",
       "      <td>3</td>\n",
       "      <td>104</td>\n",
       "      <td>Sample Name3</td>\n",
       "      <td>1234567891</td>\n",
       "      <td>sample_name1@example.com</td>\n",
       "      <td>Current Address</td>\n",
       "      <td>Los Angeles</td>\n",
       "      <td>CA</td>\n",
       "      <td>56666</td>\n",
       "    </tr>\n",
       "    <tr>\n",
       "      <td>4</td>\n",
       "      <td>105</td>\n",
       "      <td>Sample Name4</td>\n",
       "      <td>1234567891</td>\n",
       "      <td>sample_name1@example.com</td>\n",
       "      <td>Current Address</td>\n",
       "      <td>Los Angeles</td>\n",
       "      <td>CA</td>\n",
       "      <td>56666</td>\n",
       "    </tr>\n",
       "    <tr>\n",
       "      <td>5</td>\n",
       "      <td>106</td>\n",
       "      <td>Sample Name5</td>\n",
       "      <td>1234567891</td>\n",
       "      <td>sample_name1@example.com</td>\n",
       "      <td>Current Address</td>\n",
       "      <td>Los Angeles</td>\n",
       "      <td>CA</td>\n",
       "      <td>56666</td>\n",
       "    </tr>\n",
       "    <tr>\n",
       "      <td>6</td>\n",
       "      <td>107</td>\n",
       "      <td>Sample Name6</td>\n",
       "      <td>1234567891</td>\n",
       "      <td>sample_name1@example.com</td>\n",
       "      <td>Current Address</td>\n",
       "      <td>Los Angeles</td>\n",
       "      <td>CA</td>\n",
       "      <td>56666</td>\n",
       "    </tr>\n",
       "    <tr>\n",
       "      <td>7</td>\n",
       "      <td>2000</td>\n",
       "      <td>Sample Name7</td>\n",
       "      <td>1234567891</td>\n",
       "      <td>sample_name1@example.com</td>\n",
       "      <td>Current Address</td>\n",
       "      <td>Los Angeles</td>\n",
       "      <td>CA</td>\n",
       "      <td>56666</td>\n",
       "    </tr>\n",
       "  </tbody>\n",
       "</table>\n",
       "</div>"
      ],
      "text/plain": [
       "     ID          Name     PhoneNumber              EmailAddress  \\\n",
       "0   100   Sample Name  12345642357891   sample_name@example.com   \n",
       "1   101  Sample Name1      1234567891  sample_name1@example.com   \n",
       "2   103  Sample Name2      1234567891  sample_name1@example.com   \n",
       "3   104  Sample Name3      1234567891  sample_name1@example.com   \n",
       "4   105  Sample Name4      1234567891  sample_name1@example.com   \n",
       "5   106  Sample Name5      1234567891  sample_name1@example.com   \n",
       "6   107  Sample Name6      1234567891  sample_name1@example.com   \n",
       "7  2000  Sample Name7      1234567891  sample_name1@example.com   \n",
       "\n",
       "           Address         City StateCode PostalCode  \n",
       "0     Street Line1    City Name        AE      12345  \n",
       "1  Current Address  Los Angeles        CA      56666  \n",
       "2  Current Address  Los Angeles        CA      56666  \n",
       "3  Current Address  Los Angeles        CA      56666  \n",
       "4  Current Address  Los Angeles        CA      56666  \n",
       "5  Current Address  Los Angeles        CA      56666  \n",
       "6  Current Address  Los Angeles        CA      56666  \n",
       "7  Current Address  Los Angeles        CA      56666  "
      ]
     },
     "execution_count": 6,
     "metadata": {},
     "output_type": "execute_result"
    }
   ],
   "source": [
    "# define the dataframe columns\n",
    "column_names = ['ID', 'Name', 'PhoneNumber', 'EmailAddress', 'Address', 'City', 'StateCode', 'PostalCode'] \n",
    "\n",
    "# instantiate the dataframe\n",
    "user_details = pd.DataFrame(columns=column_names)\n",
    "for data in user_data:\n",
    "    ID = data['@Id']\n",
    "    user_name = data['Name']\n",
    "    user_ph = data['PhoneNumber']    \n",
    "    user_email = data['EmailAddress']\n",
    "    user_address = data['Address']['StreetLine1']\n",
    "    user_city = data['Address']['City']\n",
    "    user_state = data['Address']['StateCode']\n",
    "    user_post = data['Address']['PostalCode']\n",
    "    \n",
    "    user_details = user_details.append({'ID': ID,\n",
    "                                          'Name': user_name,\n",
    "                                          'PhoneNumber': user_ph,\n",
    "                                          'EmailAddress' : user_email,\n",
    "                                          'Address': user_address,\n",
    "                                          'City': user_city,\n",
    "                                          'StateCode': user_state,\n",
    "                                          'PostalCode': user_post}, ignore_index=True)\n",
    "user_details"
   ]
  },
  {
   "cell_type": "markdown",
   "metadata": {},
   "source": [
    "#### Convert to CSV"
   ]
  },
  {
   "cell_type": "code",
   "execution_count": 8,
   "metadata": {},
   "outputs": [],
   "source": [
    "user_details.to_csv('people.csv')"
   ]
  },
  {
   "cell_type": "code",
   "execution_count": 14,
   "metadata": {},
   "outputs": [
    {
     "name": "stdout",
     "output_type": "stream",
     "text": [
      "<class 'pandas.core.frame.DataFrame'>\n"
     ]
    }
   ],
   "source": [
    "csv_obj = pd.read_csv('people.csv')\n",
    "print(type(csv_obj))"
   ]
  },
  {
   "cell_type": "code",
   "execution_count": null,
   "metadata": {},
   "outputs": [],
   "source": []
  }
 ],
 "metadata": {
  "kernelspec": {
   "display_name": "Python 3",
   "language": "python",
   "name": "python3"
  },
  "language_info": {
   "codemirror_mode": {
    "name": "ipython",
    "version": 3
   },
   "file_extension": ".py",
   "mimetype": "text/x-python",
   "name": "python",
   "nbconvert_exporter": "python",
   "pygments_lexer": "ipython3",
   "version": "3.7.4"
  }
 },
 "nbformat": 4,
 "nbformat_minor": 2
}
