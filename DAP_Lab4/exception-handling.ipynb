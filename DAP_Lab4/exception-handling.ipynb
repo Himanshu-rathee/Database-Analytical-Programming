{
 "cells": [
  {
   "cell_type": "raw",
   "metadata": {
    "pycharm": {
     "name": "#%% raw\n"
    }
   },
   "source": [
    "\n",
    "1. Exception Handling\n",
    "a) Create a text file and manually add some data to the file\n",
    "b) WritePythoncodeto\n",
    "• open the file for write only access\n",
    "• attempt to read the contents of the file\n",
    "c) Note the type of Error that has been raised.\n",
    "d) Modifyyourcodeto\n",
    "• use a try / except / finally construct that will catch the exception, print a user-friendly error message, and clean up the file resource\n",
    "e) Investigate how you would create your own Exception class. Then create your own Exception class and use it in your code from the previous exercise.\n"
   ]
  },
  {
   "cell_type": "code",
   "execution_count": 1,
   "metadata": {
    "pycharm": {
     "is_executing": false
    }
   },
   "outputs": [],
   "source": [
    "# 1.a\n",
    "f = open(\"demo.txt\", \"w\")\n",
    "f.write(\"Mary Jones, 34, mary@example.com, manager \\n\")\n",
    "f.write(\"Peter Adams, 45, peter@example.com, sales \\n\")\n",
    "f.close()"
   ]
  },
  {
   "cell_type": "raw",
   "source": [
    "open the file read"
   ],
   "metadata": {
    "collapsed": false,
    "pycharm": {
     "name": "#%% raw\n"
    }
   }
  },
  {
   "cell_type": "code",
   "execution_count": 2,
   "metadata": {
    "pycharm": {
     "is_executing": false
    }
   },
   "outputs": [
    {
     "name": "stdout",
     "text": [
      "Mary Jones, 34, mary@example.com, manager \n",
      "Peter Adams, 45, peter@example.com, sales \n",
      "\n"
     ],
     "output_type": "stream"
    }
   ],
   "source": [
    "f = open(\"demo.txt\", \"r\")\n",
    "print(f.read())\n",
    "f.close()"
   ]
  },
  {
   "cell_type": "raw",
   "metadata": {
    "pycharm": {
     "name": "#%% raw\n"
    }
   },
   "source": [
    "b) Write Python code to\n",
    "- open the file for write only access    \n",
    "- attempt to read the contents of the file\n"
   ]
  },
  {
   "cell_type": "code",
   "execution_count": 3,
   "metadata": {
    "pycharm": {
     "is_executing": false
    }
   },
   "outputs": [
    {
     "traceback": [
      "\u001b[0;31m---------------------------------------------------------------------------\u001b[0m",
      "\u001b[0;31mUnsupportedOperation\u001b[0m                      Traceback (most recent call last)",
      "\u001b[0;32m<ipython-input-3-933f20dcbae1>\u001b[0m in \u001b[0;36m<module>\u001b[0;34m\u001b[0m\n\u001b[1;32m      1\u001b[0m \u001b[0mf\u001b[0m \u001b[0;34m=\u001b[0m \u001b[0mopen\u001b[0m\u001b[0;34m(\u001b[0m\u001b[0;34m\"demo.txt\"\u001b[0m\u001b[0;34m,\u001b[0m \u001b[0;34m\"w\"\u001b[0m\u001b[0;34m)\u001b[0m\u001b[0;34m\u001b[0m\u001b[0;34m\u001b[0m\u001b[0m\n\u001b[0;32m----> 2\u001b[0;31m \u001b[0mprint\u001b[0m\u001b[0;34m(\u001b[0m\u001b[0mf\u001b[0m\u001b[0;34m.\u001b[0m\u001b[0mread\u001b[0m\u001b[0;34m(\u001b[0m\u001b[0;34m)\u001b[0m\u001b[0;34m)\u001b[0m\u001b[0;34m\u001b[0m\u001b[0;34m\u001b[0m\u001b[0m\n\u001b[0m\u001b[1;32m      3\u001b[0m \u001b[0mf\u001b[0m\u001b[0;34m.\u001b[0m\u001b[0mclose\u001b[0m\u001b[0;34m(\u001b[0m\u001b[0;34m)\u001b[0m\u001b[0;34m\u001b[0m\u001b[0;34m\u001b[0m\u001b[0m\n\u001b[1;32m      4\u001b[0m \u001b[0;34m\u001b[0m\u001b[0m\n",
      "\u001b[0;31mUnsupportedOperation\u001b[0m: not readable"
     ],
     "ename": "UnsupportedOperation",
     "evalue": "not readable",
     "output_type": "error"
    }
   ],
   "source": [
    "f = open(\"demo.txt\", \"w\")\n",
    "print(f.read())\n",
    "f.close()"
   ]
  },
  {
   "cell_type": "raw",
   "metadata": {
    "pycharm": {
     "name": "#%% raw\n"
    }
   },
   "source": [
    "c) Note the type of Error that has been raised.\n"
   ]
  },
  {
   "cell_type": "raw",
   "metadata": {
    "pycharm": {
     "name": "#%% raw\n"
    }
   },
   "source": [
    "\n",
    "that is UnsupportedOperation\n"
   ]
  },
  {
   "cell_type": "raw",
   "metadata": {
    "pycharm": {
     "name": "#%% raw\n"
    }
   },
   "source": [
    "\n",
    "### d) Modify your code to\n",
    "- use a try / except / finally construct that will catch the exception, \n",
    "- print a user-friendly error message, and clean up the file resource\n"
   ]
  },
  {
   "cell_type": "code",
   "execution_count": 5,
   "metadata": {
    "pycharm": {
     "is_executing": false
    }
   },
   "outputs": [
    {
     "name": "stdout",
     "text": [
      "A type of 'UnsupportedOperation' exception was triggered.\n",
      "This is because you have opened your file in a write mode, while you are trying to read it !\n"
     ],
     "output_type": "stream"
    }
   ],
   "source": [
    "import sys\n",
    "import io\n",
    "\n",
    "try:\n",
    "    f = open(\"demo.txt\", \"w\")\n",
    "    print(f.read())    \n",
    "except io.UnsupportedOperation:\n",
    "    print(\"A type of 'UnsupportedOperation' exception was triggered.\\nThis is because you have opened your file in a write mode, while you are trying to read it !\")\n",
    "except:\n",
    "    (\"Other type of error \" + sys.exc_info()[2])\n",
    "finally:\n",
    "    f.close()"
   ]
  },
  {
   "cell_type": "raw",
   "metadata": {
    "pycharm": {
     "name": "#%% raw\n"
    }
   },
   "source": [
    "\n",
    "### e) Investigate how you would create your own Exception class. \n",
    "Then create your own Exception class and use it in your code from the previous exercise.\n"
   ]
  },
  {
   "cell_type": "code",
   "execution_count": 8,
   "metadata": {
    "pycharm": {
     "is_executing": false,
     "name": "#%%\n"
    }
   },
   "outputs": [
    {
     "name": "stdout",
     "text": [
      "Handled by '<class '__main__.MyCustomException'>': You have opened your file in an incompatible mode\n"
     ],
     "output_type": "stream"
    }
   ],
   "source": [
    "class MyCustomException(io.UnsupportedOperation):\n",
    "    pass\n",
    "\n",
    "\n",
    "try:\n",
    "    f = open(\"demo.txt\", \"w\")\n",
    "    \n",
    "    raise MyCustomException('You have opened your file in an incompatible mode')    \n",
    "    print(f.read())    \n",
    "    \n",
    "except io.UnsupportedOperation:\n",
    "     print(\"Handled by '{}': {}\".format(sys.exc_info()[0], sys.exc_info()[1]))\n",
    "except:\n",
    "    print(\"Other type of error {}\".format(sys.exc_info()[2]))\n",
    "finally:\n",
    "    f.close()"
   ]
  }
 ],
 "metadata": {
  "kernelspec": {
   "display_name": "Python 3",
   "language": "python",
   "name": "python3"
  },
  "language_info": {
   "codemirror_mode": {
    "name": "ipython",
    "version": 3
   },
   "file_extension": ".py",
   "mimetype": "text/x-python",
   "name": "python",
   "nbconvert_exporter": "python",
   "pygments_lexer": "ipython3",
   "version": "3.7.4"
  },
  "pycharm": {
   "stem_cell": {
    "cell_type": "raw",
    "source": [],
    "metadata": {
     "collapsed": false
    }
   }
  }
 },
 "nbformat": 4,
 "nbformat_minor": 2
}