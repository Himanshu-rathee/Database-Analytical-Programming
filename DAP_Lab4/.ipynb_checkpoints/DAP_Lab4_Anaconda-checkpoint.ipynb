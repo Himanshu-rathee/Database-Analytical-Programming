{
 "cells": [
  {
   "cell_type": "code",
   "execution_count": 35,
   "metadata": {},
   "outputs": [
    {
     "name": "stdout",
     "output_type": "stream",
     "text": [
      "file closed\n"
     ]
    },
    {
     "ename": "UnsupportedOperation",
     "evalue": "not readable",
     "output_type": "error",
     "traceback": [
      "\u001b[0;31m---------------------------------------------------------------------------\u001b[0m",
      "\u001b[0;31mUnsupportedOperation\u001b[0m                      Traceback (most recent call last)",
      "\u001b[0;32m<ipython-input-35-728102529fa6>\u001b[0m in \u001b[0;36m<module>\u001b[0;34m\u001b[0m\n\u001b[1;32m     29\u001b[0m \u001b[0;32mtry\u001b[0m \u001b[0;34m:\u001b[0m\u001b[0;34m\u001b[0m\u001b[0;34m\u001b[0m\u001b[0m\n\u001b[1;32m     30\u001b[0m     \u001b[0mfile\u001b[0m \u001b[0;34m=\u001b[0m \u001b[0mopen\u001b[0m\u001b[0;34m(\u001b[0m\u001b[0;34m\"/Users/sobil/Documents/MSC/Sem 1/Database & Analytical Programming/Lab/Lab - 4/exe1.txt\"\u001b[0m\u001b[0;34m,\u001b[0m\u001b[0;34m\"w\"\u001b[0m\u001b[0;34m)\u001b[0m\u001b[0;34m\u001b[0m\u001b[0;34m\u001b[0m\u001b[0m\n\u001b[0;32m---> 31\u001b[0;31m     \u001b[0mcontent\u001b[0m \u001b[0;34m=\u001b[0m \u001b[0mfile\u001b[0m\u001b[0;34m.\u001b[0m\u001b[0mread\u001b[0m\u001b[0;34m(\u001b[0m\u001b[0;34m)\u001b[0m\u001b[0;34m\u001b[0m\u001b[0;34m\u001b[0m\u001b[0m\n\u001b[0m\u001b[1;32m     32\u001b[0m     \u001b[0mprint\u001b[0m\u001b[0;34m(\u001b[0m\u001b[0mcontent\u001b[0m\u001b[0;34m)\u001b[0m\u001b[0;34m\u001b[0m\u001b[0;34m\u001b[0m\u001b[0m\n\u001b[1;32m     33\u001b[0m \u001b[0;31m# c, d\u001b[0m\u001b[0;34m\u001b[0m\u001b[0;34m\u001b[0m\u001b[0;34m\u001b[0m\u001b[0m\n",
      "\u001b[0;31mUnsupportedOperation\u001b[0m: not readable"
     ]
    }
   ],
   "source": [
    "'''\n",
    "Database & Analytics Programming\n",
    "Lab 4\n",
    "'''\n",
    "\n",
    "'''\n",
    "1. Exception Handling\n",
    "a) Create a text file and manually add some data to the file\n",
    "b) WritePythoncodeto\n",
    "• open the file for write only access\n",
    "• attempt to read the contents of the file\n",
    "c) Note the type of Error that has been raised.\n",
    "d) Modifyyourcodeto\n",
    "• use a try / except / finally construct that will catch the exception, print a user-friendly error message, and clean up the file resource\n",
    "e) Investigate how you would create your own Exception class. Then create your own Exception class and use it in your code from the previous exercise.\n",
    "'''\n",
    "\n",
    "from io import UnsupportedOperation\n",
    "\n",
    "# e - creating Exception class\n",
    "class OwnException(UnsupportedOperation):\n",
    "    \"\"\"Unsupported operation called on the file\"\"\"\n",
    "    pass\n",
    "\n",
    "\n",
    "# a - created a file exe1.txt file with path - /Users/sobil/Documents/MSC/Sem 1/Database & Analytical Programming/Lab/Lab - 4/exe1.txt\n",
    "\n",
    "# b\n",
    "try :\n",
    "    file = open(\"/Users/sobil/Documents/MSC/Sem 1/Database & Analytical Programming/Lab/Lab - 4/exe1.txt\",\"w\")\n",
    "    content = file.read()\n",
    "    print(content)\n",
    "# c, d\n",
    "except OwnException as ex :\n",
    "    print(\"We can't read the file in write mode.\")\n",
    "finally :\n",
    "    file.close()\n",
    "    print(\"file closed\")\n",
    "    \n"
   ]
  },
  {
   "cell_type": "code",
   "execution_count": 40,
   "metadata": {},
   "outputs": [
    {
     "name": "stdout",
     "output_type": "stream",
     "text": [
      "[[[ 0  1  2  3]\n",
      "  [ 4  5  6  7]\n",
      "  [ 8  9 10 11]]\n",
      "\n",
      " [[12 13 14 15]\n",
      "  [16 17 18 19]\n",
      "  [20 21 22 23]]]\n"
     ]
    }
   ],
   "source": [
    "'''\n",
    "2. Numpy Exercise A\n",
    "a) Create an array with the arange function and reshape the array as follows: b = arange(24).reshape(2,3,4)\n",
    "This gives us a 3-dimensional data structure – you can think of it as being like 2 spreadsheet sheets where each sheet contains 3 rows of data and each row contains 4 columns.\n",
    "Using indexing and slicing perform the following tasks:\n",
    "i) Choose the first set of 3 rows and 4 columns of data\n",
    "ii) Choose the second row of data from the second set of 3 rows of data\n",
    "iii) Choose all the data from the second column for both the first and second\n",
    "sets of rows and columns of data\n",
    "b) Usetheravelfunctiontoflattenthedata.What’sthedifferencebetweenravel and flatten?\n",
    "c) Reshape the data so that there are 6 rows of 4 columns per row.\n",
    "d) Getthetransposeofthenewdatastructure.\n",
    "e) Restack the rows of the transposed data structure in reverse order (hint: look at\n",
    "the row_stack function).\n",
    "f) Split the resulting data structure horizontally (hint: look at the hsplit function).\n",
    "'''\n",
    "\n",
    "# a\n",
    "import numpy as np\n",
    "\n",
    "b = np.arange(24).reshape(2,3,4)\n",
    "print(b)\n",
    "\n"
   ]
  },
  {
   "cell_type": "code",
   "execution_count": 45,
   "metadata": {},
   "outputs": [
    {
     "name": "stdout",
     "output_type": "stream",
     "text": [
      "[[ 0  1  2  3]\n",
      " [ 4  5  6  7]\n",
      " [ 8  9 10 11]]\n"
     ]
    }
   ],
   "source": [
    "# a.i\n",
    "b = np.arange(24).reshape(2,3,4)\n",
    "print(b[0])"
   ]
  },
  {
   "cell_type": "code",
   "execution_count": 44,
   "metadata": {},
   "outputs": [
    {
     "name": "stdout",
     "output_type": "stream",
     "text": [
      "[16 17 18 19]\n"
     ]
    }
   ],
   "source": [
    "# a.ii\n",
    "b = np.arange(24).reshape(2,3,4)\n",
    "print(b[1][1])"
   ]
  },
  {
   "cell_type": "code",
   "execution_count": 64,
   "metadata": {},
   "outputs": [
    {
     "data": {
      "text/plain": [
       "array([[ 1,  5,  9],\n",
       "       [13, 17, 21]])"
      ]
     },
     "execution_count": 64,
     "metadata": {},
     "output_type": "execute_result"
    }
   ],
   "source": [
    "# a.iii\n",
    "b = np.arange(24).reshape(2,3,4)\n",
    "b[:,:,1]"
   ]
  },
  {
   "cell_type": "code",
   "execution_count": 80,
   "metadata": {},
   "outputs": [
    {
     "name": "stdout",
     "output_type": "stream",
     "text": [
      "[ 0  1  2  3  4  5  6  7  8  9 10 11 12 13 14 15 16 17 18 19 20 21 22 23]\n",
      "[[[ 0  1  2  3]\n",
      "  [ 4  5  6  7]\n",
      "  [ 8  9 10 11]]\n",
      "\n",
      " [[12 13 14 15]\n",
      "  [16 17 18 19]\n",
      "  [20 21 22 23]]]\n"
     ]
    }
   ],
   "source": [
    "# b) Usetheravelfunctiontoflattenthedata.What’sthedifferencebetweenravel and flatten?\n",
    "import numpy as np\n",
    "b = np.arange(24).reshape(2,3,4)\n",
    "\n",
    "#b.ravel()\n",
    "#print(\"Flatten\")\n",
    "print(b.ravel())\n",
    "print(b)"
   ]
  },
  {
   "cell_type": "code",
   "execution_count": 84,
   "metadata": {},
   "outputs": [
    {
     "name": "stdout",
     "output_type": "stream",
     "text": [
      "[[ 0  1  2  3]\n",
      " [ 4  5  6  7]\n",
      " [ 8  9 10 11]\n",
      " [12 13 14 15]\n",
      " [16 17 18 19]\n",
      " [20 21 22 23]]\n"
     ]
    }
   ],
   "source": [
    "# c) Reshape the data so that there are 6 rows of 4 columns per row.\n",
    "import numpy as np\n",
    "b = np.arange(24).reshape(2,3,4)\n",
    "\n",
    "c = b.reshape(6,4)\n",
    "print(c)\n"
   ]
  },
  {
   "cell_type": "code",
   "execution_count": 86,
   "metadata": {},
   "outputs": [
    {
     "name": "stdout",
     "output_type": "stream",
     "text": [
      "[[ 0  4  8 12 16 20]\n",
      " [ 1  5  9 13 17 21]\n",
      " [ 2  6 10 14 18 22]\n",
      " [ 3  7 11 15 19 23]]\n"
     ]
    }
   ],
   "source": [
    "# d) Getthetransposeofthenewdatastructure.\n",
    "b = np.arange(24).reshape(2,3,4)\n",
    "\n",
    "c = b.reshape(6,4)\n",
    "t = c.transpose()\n",
    "\n",
    "print(t)"
   ]
  },
  {
   "cell_type": "code",
   "execution_count": 95,
   "metadata": {},
   "outputs": [
    {
     "name": "stdout",
     "output_type": "stream",
     "text": [
      "[[23 19 15 11  7  3]\n",
      " [22 18 14 10  6  2]\n",
      " [21 17 13  9  5  1]\n",
      " [20 16 12  8  4  0]]\n",
      "[[23 19 15 11  7  3]\n",
      " [22 18 14 10  6  2]\n",
      " [21 17 13  9  5  1]\n",
      " [20 16 12  8  4  0]]\n"
     ]
    }
   ],
   "source": [
    "# e) Restack the rows of the transposed data structure in reverse order (hint: look at\n",
    "# the row_stack function).\n",
    "import numpy as np\n",
    "b = np.arange(24).reshape(2,3,4)\n",
    "\n",
    "c = b.reshape(6,4)\n",
    "t = c.transpose()\n",
    "\n",
    "flp = np.flip(t)\n",
    "print(flp)\n",
    "\n",
    "rstck = np.vstack(flp)\n",
    "\n",
    "print(rstck)"
   ]
  }
 ],
 "metadata": {
  "kernelspec": {
   "display_name": "Python 3",
   "language": "python",
   "name": "python3"
  },
  "language_info": {
   "codemirror_mode": {
    "name": "ipython",
    "version": 3
   },
   "file_extension": ".py",
   "mimetype": "text/x-python",
   "name": "python",
   "nbconvert_exporter": "python",
   "pygments_lexer": "ipython3",
   "version": "3.7.4"
  }
 },
 "nbformat": 4,
 "nbformat_minor": 2
}
