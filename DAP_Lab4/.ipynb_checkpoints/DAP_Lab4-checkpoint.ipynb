{
 "cells": [
  {
   "cell_type": "markdown",
   "metadata": {},
   "source": [
    "# 1. Exception Handling\n",
    "a) Create a text file and manually add some data to the file\n",
    "b) WritePythoncodeto\n",
    "• open the file for write only access\n",
    "• attempt to read the contents of the file\n",
    "c) Note the type of Error that has been raised.\n",
    "d) Modifyyourcodeto\n",
    "• use a try / except / finally construct that will catch the exception, print a user-friendly error message, and clean up the file resource\n",
    "e) Investigate how you would create your own Exception class. Then create your own Exception class and use it in your code from the previous exercise.\n"
   ]
  },
  {
   "cell_type": "code",
   "execution_count": null,
   "metadata": {
    "pycharm": {
     "name": "#%%\n"
    }
   },
   "outputs": [],
   "source": [
    "# 1.a\n",
    "f = open(\"demo.txt\", \"w\")\n",
    "f.write(\"Mary Jones, 34, mary@example.com, manager \\n\")\n",
    "f.write(\"Peter Adams, 45, peter@example.com, sales \\n\")\n",
    "f.close()"
   ]
  },
  {
   "cell_type": "raw",
   "metadata": {},
   "source": [
    "open the file read"
   ]
  },
  {
   "cell_type": "code",
   "execution_count": null,
   "metadata": {
    "pycharm": {
     "name": "#%%\n"
    }
   },
   "outputs": [],
   "source": [
    "f = open(\"demo.txt\", \"r\")\n",
    "print(f.read())\n",
    "f.close()"
   ]
  },
  {
   "cell_type": "raw",
   "metadata": {},
   "source": [
    "b) Write Python code to\n",
    "- open the file for write only access    \n",
    "- attempt to read the contents of the file\n"
   ]
  },
  {
   "cell_type": "code",
   "execution_count": null,
   "metadata": {
    "pycharm": {
     "name": "#%%\n"
    }
   },
   "outputs": [],
   "source": [
    "f = open(\"demo.txt\", \"w\")\n",
    "print(f.read())\n",
    "f.close()"
   ]
  },
  {
   "cell_type": "raw",
   "metadata": {},
   "source": [
    "c) Note the type of Error that has been raised.\n"
   ]
  },
  {
   "cell_type": "raw",
   "metadata": {},
   "source": [
    "\n",
    "that is UnsupportedOperation\n"
   ]
  },
  {
   "cell_type": "raw",
   "metadata": {},
   "source": [
    "\n",
    "### d) Modify your code to\n",
    "- use a try / except / finally construct that will catch the exception, \n",
    "- print a user-friendly error message, and clean up the file resource\n"
   ]
  },
  {
   "cell_type": "code",
   "execution_count": null,
   "metadata": {
    "pycharm": {
     "name": "#%%\n"
    }
   },
   "outputs": [],
   "source": [
    "import sys\n",
    "import io\n",
    "\n",
    "try:\n",
    "    f = open(\"demo.txt\", \"w\")\n",
    "    print(f.read())    \n",
    "except io.UnsupportedOperation:\n",
    "    print(\"A type of 'UnsupportedOperation' exception was triggered.\\nThis is because you have opened your file in a write mode, while you are trying to read it !\")\n",
    "except:\n",
    "    (\"Other type of error \" + sys.exc_info()[2])\n",
    "finally:\n",
    "    f.close()"
   ]
  },
  {
   "cell_type": "raw",
   "metadata": {},
   "source": [
    "\n",
    "### e) Investigate how you would create your own Exception class. \n",
    "Then create your own Exception class and use it in your code from the previous exercise.\n"
   ]
  },
  {
   "cell_type": "code",
   "execution_count": null,
   "metadata": {
    "pycharm": {
     "name": "#%%\n"
    }
   },
   "outputs": [],
   "source": [
    "class MyCustomException(io.UnsupportedOperation):\n",
    "    pass\n",
    "\n",
    "\n",
    "try:\n",
    "    f = open(\"demo.txt\", \"w\")\n",
    "    \n",
    "    raise MyCustomException('You have opened your file in an incompatible mode')    \n",
    "    print(f.read())    \n",
    "    \n",
    "except io.UnsupportedOperation:\n",
    "     print(\"Handled by '{}': {}\".format(sys.exc_info()[0], sys.exc_info()[1]))\n",
    "except:\n",
    "    print(\"Other type of error {}\".format(sys.exc_info()[2]))\n",
    "finally:\n",
    "    f.close()"
   ]
  },
  {
   "cell_type": "markdown",
   "metadata": {},
   "source": [
    "# 2. Numpy Exercise A\n",
    "a) Create an array with the arange function and reshape the array as follows: b = arange(24).reshape(2,3,4)\n",
    "This gives us a 3-dimensional data structure – you can think of it as being like 2 spreadsheet sheets where each sheet contains 3 rows of data and each row contains 4 columns.\n",
    "Using indexing and slicing perform the following tasks:\n",
    "i) Choose the first set of 3 rows and 4 columns of data\n",
    "ii) Choose the second row of data from the second set of 3 rows of data\n",
    "iii) Choose all the data from the second column for both the first and second\n",
    "sets of rows and columns of data\n",
    "b) Use the ravel function to flatten the data.What’s the difference between ravel and flatten?\n",
    "c) Reshape the data so that there are 6 rows of 4 columns per row.\n",
    "d) Getthetransposeofthenewdatastructure.\n",
    "e) Restack the rows of the transposed data structure in reverse order (hint: look at\n",
    "the row_stack function).\n",
    "f) Split the resulting data structure horizontally (hint: look at the hsplit function).\n"
   ]
  },
  {
   "cell_type": "code",
   "execution_count": 1,
   "metadata": {
    "pycharm": {
     "is_executing": false,
     "name": "#%%\n"
    }
   },
   "outputs": [
    {
     "name": "stdout",
     "output_type": "stream",
     "text": [
      "2.a.i => [[ 0  1  2  3]\n",
      " [ 4  5  6  7]\n",
      " [ 8  9 10 11]]\n",
      "2.a.ii => [16 17 18 19]\n",
      "2.a.iii => [[ 4  5  6  7]\n",
      " [16 17 18 19]]\n",
      "2.b => [ 0  1  2  3  4  5  6  7  8  9 10 11 12 13 14 15 16 17 18 19 20 21 22 23]\n",
      "2.c => [[ 0  1  2  3]\n",
      " [ 4  5  6  7]\n",
      " [ 8  9 10 11]\n",
      " [12 13 14 15]\n",
      " [16 17 18 19]\n",
      " [20 21 22 23]]\n",
      "2.d => [[ 0  4  8 12 16 20]\n",
      " [ 1  5  9 13 17 21]\n",
      " [ 2  6 10 14 18 22]\n",
      " [ 3  7 11 15 19 23]]\n",
      "2.e => [[23 19 15 11  7  3]\n",
      " [22 18 14 10  6  2]\n",
      " [21 17 13  9  5  1]\n",
      " [20 16 12  8  4  0]]\n",
      "2.f => [array([[23, 19, 15],\n",
      "       [22, 18, 14],\n",
      "       [21, 17, 13],\n",
      "       [20, 16, 12]]), array([[11,  7,  3],\n",
      "       [10,  6,  2],\n",
      "       [ 9,  5,  1],\n",
      "       [ 8,  4,  0]])]\n"
     ]
    }
   ],
   "source": [
    "# 2.a\n",
    "import numpy as np\n",
    "b = np.arange(24).reshape(2,3,4)\n",
    "print(f\"2.a.i => {b[0]}\")\n",
    "print(f\"2.a.ii => {b[1,1,:]}\")\n",
    "print(f\"2.a.iii => {b[:,1,:]}\")\n",
    "# 2.b\n",
    "b = b.ravel()\n",
    "print(f\"2.b => {b}\")\n",
    "# 2.c\n",
    "b = b.reshape(6,4)\n",
    "print(f\"2.c => {b}\")\n",
    "#2.d\n",
    "b = b.T\n",
    "print(f\"2.d => {b}\")\n",
    "# 2.e\n",
    "b = np.flip(b)\n",
    "print(f\"2.e => {b}\")\n",
    "# 2.f\n",
    "b = np.hsplit(b,2)\n",
    "print(f\"2.f => {b}\")"
   ]
  },
  {
   "cell_type": "markdown",
   "metadata": {
    "pycharm": {
     "name": "#%% raw\n"
    }
   },
   "source": [
    "# 3. NumPy Exercise B\n",
    "NOTE:\n",
    "The AAPL.csv contains some stock price data for Apple. The MSFT.csv contains some stock price data for Microsoft.\n",
    "a) Use the loadtxt command to load data from AAPL.csv from columns 5 and 7 (i.e., the close price and the volume).\n",
    "b) Based on thedataprovided,calculatethevolumeweightedaveragepriceforthe stock (i.e., calculate the average price using the volume as weight values).\n",
    "c) Calculate the median value of the closing prices (hint: use the median function).\n",
    "d) Calculatethevariancevalueoftheclosingprices.\n",
    "e) Again, use the loadtxt command to load data from columns 3 and 4 (i.e., the high\n",
    "prices and the low prices).\n",
    "f) Use the max and min functions to get the highest high and the lowest low value.\n",
    "g) Load data from column 5 of AAPL.csv. Also, load data from column 5 of MSFT.csv.\n",
    "h) CalculatethecovariancematrixoftheclosingpricesofAAPLandMSFT(hint:use\n",
    "the cov function).\n",
    "i) View the values on the diagonal (hint: diagonal).\n",
    "j) Calculate the correlation coefficient of the closing prices of AAPL and MSFT (hint:\n",
    "corrcoef).\n"
   ]
  },
  {
   "cell_type": "code",
   "execution_count": 20,
   "metadata": {
    "pycharm": {
     "is_executing": false,
     "name": "#%%\n"
    }
   },
   "outputs": [
    {
     "name": "stdout",
     "output_type": "stream",
     "text": [
      "3.a :: aapl[5,7] => [[2.23770004e+02 2.96639000e+07]\n",
      " [2.26869995e+02 2.68910000e+07]\n",
      " [2.16360001e+02 4.19906000e+07]\n",
      " [2.14449997e+02 5.31244000e+07]\n",
      " [2.22110001e+02 4.03379000e+07]]\n",
      "3.b :: aapl_weighted_price => 190.02952578964312\n",
      "3.c :: median => 197.0\n",
      "3.d :: variance => 432.8804568188714\n",
      "3.e :: aapl[3,4] => [[224.800003 220.199997]\n",
      " [227.270004 222.25    ]\n",
      " [226.350006 216.050003]\n",
      " [219.5      212.320007]\n",
      " [222.880005 216.839996]]\n",
      "3.f :: highest high => 229.929993\n",
      "3.f :: & lowest low => 142.0\n",
      "3.g :: aapl[5] => [110.849998 112.260002 106.160004 105.910004 109.57    ]\n",
      "3.g :: & msft[5] => [110.849998 112.260002 106.160004 105.910004 109.57    ]\n",
      "3.h :: covariance => [[184.73421932 184.73421932]\n",
      " [184.73421932 184.73421932]]\n",
      "3.i :: diagnol => [184.73421932 184.73421932]\n"
     ]
    }
   ],
   "source": [
    "import numpy as np\n",
    "# 3.a\n",
    "aapl = np.loadtxt(fname=\"/Users/sobil/Documents/MSC/Sem 1/Database & Analytical Programming/Lab/Lab - 4/AAPL.csv\", delimiter=\",\", usecols=(4,6), skiprows=1)\n",
    "print(f\"3.a :: aapl[5,7] => {aapl[0:5,:]}\")\n",
    "# 3.b\n",
    "aapl_weighted_price = np.average(aapl[:,0], axis= 0, weights= aapl[:,1])\n",
    "print(f\"3.b :: aapl_weighted_price => {aapl_weighted_price}\")\n",
    "\n",
    "# 3.c\n",
    "print(f\"3.c :: median => {np.median(aapl[:,0])}\")\n",
    "\n",
    "# 3.d\n",
    "print(f\"3.d :: variance => {np.var(aapl[:,0])}\")\n",
    "\n",
    "# 3.e\n",
    "aapl = np.loadtxt(\"/Users/sobil/Documents/MSC/Sem 1/Database & Analytical Programming/Lab/Lab - 4/AAPL.csv\", delimiter=\",\", usecols=(2,3), skiprows=1)\n",
    "print(f\"3.e :: aapl[3,4] => {aapl[0:5,:]}\")\n",
    "\n",
    "# 3.f\n",
    "print(f\"3.f :: highest high => {np.max(aapl[:,0])}\")\n",
    "print(f\"3.f :: & lowest low => {np.min(aapl[:,1])}\")\n",
    "\n",
    "# 3.g\n",
    "aapl = np.loadtxt(fname=\"/Users/sobil/Documents/MSC/Sem 1/Database & Analytical Programming/Lab/Lab - 4/AAPL.csv\", delimiter=\",\", usecols=(4), skiprows=1)\n",
    "msft = aapl = np.loadtxt(fname=\"/Users/sobil/Documents/MSC/Sem 1/Database & Analytical Programming/Lab/Lab - 4/MSFT.csv\", delimiter=\",\", usecols=(4), skiprows=1)\n",
    "print(f\"3.g :: aapl[5] => {aapl[0:5]}\")\n",
    "print(f\"3.g :: & msft[5] => {aapl[0:5]}\")\n",
    "\n",
    "# 3.h\n",
    "print(f\"3.h :: covariance => {np.cov(aapl,msft)}\")\n",
    "\n",
    "# 3.i\n",
    "print(f\"3.i :: diagnol => {np.cov(aapl,msft).diagonal()}\")\n",
    "\n",
    "# 3.j\n",
    "print(f\"3.h :: correlation => {np.cov(aapl,msft)}\")"
   ]
  },
  {
   "cell_type": "markdown",
   "metadata": {
    "pycharm": {
     "name": "#%% raw\n"
    }
   },
   "source": [
    "\n",
    "# 4. Regular Expresssions\n",
    "Write a Python program that will identify URLs using regular expressions.\n",
    "\n"
   ]
  },
  {
   "cell_type": "code",
   "execution_count": 61,
   "metadata": {
    "pycharm": {
     "is_executing": false,
     "name": "#%%\n"
    }
   },
   "outputs": [
    {
     "name": "stdout",
     "output_type": "stream",
     "text": [
      "['https://google.com', 'http://google.com']\n"
     ]
    }
   ],
   "source": [
    "import re\n",
    "regex = r\"http[s]?:\\/\\/\\w+\\.com?\"\n",
    "testData = \"https://google.comhttp://google.comhtts://google.comhttp:/google.com\"\n",
    "x = re.findall(regex, testData)\n",
    "print(x)"
   ]
  }
 ],
 "metadata": {
  "kernelspec": {
   "display_name": "Python 3",
   "language": "python",
   "name": "python3"
  },
  "language_info": {
   "codemirror_mode": {
    "name": "ipython",
    "version": 3
   },
   "file_extension": ".py",
   "mimetype": "text/x-python",
   "name": "python",
   "nbconvert_exporter": "python",
   "pygments_lexer": "ipython3",
   "version": "3.8.1"
  },
  "pycharm": {
   "stem_cell": {
    "cell_type": "raw",
    "metadata": {
     "collapsed": false
    },
    "source": []
   }
  }
 },
 "nbformat": 4,
 "nbformat_minor": 1
}
