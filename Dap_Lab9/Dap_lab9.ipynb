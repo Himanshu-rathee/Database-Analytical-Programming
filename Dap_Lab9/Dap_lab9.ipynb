{
 "cells": [
  {
   "cell_type": "markdown",
   "source": [
    "# Data Wrangling  \n",
    "## 1.1 Importing Data"
   ],
   "metadata": {
    "collapsed": false
   }
  },
  {
   "cell_type": "code",
   "execution_count": 2,
   "outputs": [
    {
     "name": "stdout",
     "text": [
      "imported all data\n"
     ],
     "output_type": "stream"
    }
   ],
   "source": [
    " # Import libraries\n",
    "import pandas as pd\n",
    "import numpy as np\n",
    "from numpy import nan as NA \n",
    "import random\n",
    "from matplotlib import pyplot \n",
    "%matplotlib inline\n",
    "print(\"imported all data\")"
   ],
   "metadata": {
    "collapsed": false,
    "pycharm": {
     "name": "#%%\n",
     "is_executing": false
    }
   }
  },
  {
   "cell_type": "code",
   "execution_count": 3,
   "metadata": {
    "collapsed": true,
    "pycharm": {
     "is_executing": false,
     "name": "#%%\n"
    }
   },
   "outputs": [
    {
     "data": {
      "text/plain": "   id  Density  bodyfat  Age  Weight  Height  Neck  Chest  Abdomen    Hip  \\\n0   1   1.0708     12.3   23  154.25   67.75  36.2   93.1     85.2   94.5   \n1   2   1.0853      6.1   22  173.25   72.25  38.5   93.6     83.0   98.7   \n2   3   1.0414     25.3   22  154.00   66.25  34.0   95.8     87.9   99.2   \n3   4   1.0751     10.4   26  184.75   72.25  37.4  101.8     86.4  101.2   \n4   5   1.0340     28.7   24  184.25   71.25  34.4   97.3    100.0  101.9   \n\n   Thigh  Knee  Ankle  Biceps  Forearm  Wrist  \n0   59.0  37.3   21.9    32.0     27.4   17.1  \n1   58.7  37.3   23.4    30.5     28.9   18.2  \n2   59.6  38.9   24.0    28.8     25.2   16.6  \n3   60.1  37.3   22.8    32.4     29.4   18.2  \n4   63.2  42.2   24.0    32.2     27.7   17.7  ",
      "text/html": "<div>\n<style scoped>\n    .dataframe tbody tr th:only-of-type {\n        vertical-align: middle;\n    }\n\n    .dataframe tbody tr th {\n        vertical-align: top;\n    }\n\n    .dataframe thead th {\n        text-align: right;\n    }\n</style>\n<table border=\"1\" class=\"dataframe\">\n  <thead>\n    <tr style=\"text-align: right;\">\n      <th></th>\n      <th>id</th>\n      <th>Density</th>\n      <th>bodyfat</th>\n      <th>Age</th>\n      <th>Weight</th>\n      <th>Height</th>\n      <th>Neck</th>\n      <th>Chest</th>\n      <th>Abdomen</th>\n      <th>Hip</th>\n      <th>Thigh</th>\n      <th>Knee</th>\n      <th>Ankle</th>\n      <th>Biceps</th>\n      <th>Forearm</th>\n      <th>Wrist</th>\n    </tr>\n  </thead>\n  <tbody>\n    <tr>\n      <th>0</th>\n      <td>1</td>\n      <td>1.0708</td>\n      <td>12.3</td>\n      <td>23</td>\n      <td>154.25</td>\n      <td>67.75</td>\n      <td>36.2</td>\n      <td>93.1</td>\n      <td>85.2</td>\n      <td>94.5</td>\n      <td>59.0</td>\n      <td>37.3</td>\n      <td>21.9</td>\n      <td>32.0</td>\n      <td>27.4</td>\n      <td>17.1</td>\n    </tr>\n    <tr>\n      <th>1</th>\n      <td>2</td>\n      <td>1.0853</td>\n      <td>6.1</td>\n      <td>22</td>\n      <td>173.25</td>\n      <td>72.25</td>\n      <td>38.5</td>\n      <td>93.6</td>\n      <td>83.0</td>\n      <td>98.7</td>\n      <td>58.7</td>\n      <td>37.3</td>\n      <td>23.4</td>\n      <td>30.5</td>\n      <td>28.9</td>\n      <td>18.2</td>\n    </tr>\n    <tr>\n      <th>2</th>\n      <td>3</td>\n      <td>1.0414</td>\n      <td>25.3</td>\n      <td>22</td>\n      <td>154.00</td>\n      <td>66.25</td>\n      <td>34.0</td>\n      <td>95.8</td>\n      <td>87.9</td>\n      <td>99.2</td>\n      <td>59.6</td>\n      <td>38.9</td>\n      <td>24.0</td>\n      <td>28.8</td>\n      <td>25.2</td>\n      <td>16.6</td>\n    </tr>\n    <tr>\n      <th>3</th>\n      <td>4</td>\n      <td>1.0751</td>\n      <td>10.4</td>\n      <td>26</td>\n      <td>184.75</td>\n      <td>72.25</td>\n      <td>37.4</td>\n      <td>101.8</td>\n      <td>86.4</td>\n      <td>101.2</td>\n      <td>60.1</td>\n      <td>37.3</td>\n      <td>22.8</td>\n      <td>32.4</td>\n      <td>29.4</td>\n      <td>18.2</td>\n    </tr>\n    <tr>\n      <th>4</th>\n      <td>5</td>\n      <td>1.0340</td>\n      <td>28.7</td>\n      <td>24</td>\n      <td>184.25</td>\n      <td>71.25</td>\n      <td>34.4</td>\n      <td>97.3</td>\n      <td>100.0</td>\n      <td>101.9</td>\n      <td>63.2</td>\n      <td>42.2</td>\n      <td>24.0</td>\n      <td>32.2</td>\n      <td>27.7</td>\n      <td>17.7</td>\n    </tr>\n  </tbody>\n</table>\n</div>"
     },
     "metadata": {},
     "output_type": "execute_result",
     "execution_count": 3
    }
   ],
   "source": [
    "import os \n",
    "os. chdir(\"/Users/sobil/Documents/MSC/Sem 1/Database & Analytical Programming/Lab/Lab-9/Tutorial Data-20200326\")\n",
    "\n",
    "bodyFat = pd.read_csv(\"bodyfat.csv\")\n",
    "bodyFat.head()"
   ]
  },
  {
   "cell_type": "markdown",
   "source": [
    "## 1.2 Dealing with Missing Values\n",
    "We are going to introduce some NAs into the data:"
   ],
   "metadata": {
    "collapsed": false,
    "pycharm": {
     "name": "#%% md\n"
    }
   }
  },
  {
   "cell_type": "code",
   "execution_count": 4,
   "outputs": [
    {
     "name": "stdout",
     "text": [
      "added missing data\n"
     ],
     "output_type": "stream"
    }
   ],
   "source": [
    "bodyFatMissing = bodyFat.copy()\n",
    "\n",
    "# random 20% index for NAs indexes\n",
    "replaceIndexies = random.sample(range(0,252),50)\n",
    "for item in replaceIndexies :\n",
    "    bodyFatMissing.loc[item,\"Abdomen\"] = NA\n",
    "print(\"added missing data\")    "
   ],
   "metadata": {
    "collapsed": false,
    "pycharm": {
     "name": "#%%\n",
     "is_executing": false
    }
   }
  },
  {
   "cell_type": "markdown",
   "source": [
    "Let us try replacing the missing items with the mean:"
   ],
   "metadata": {
    "collapsed": false
   }
  },
  {
   "cell_type": "code",
   "execution_count": 5,
   "outputs": [],
   "source": [
    "meanReplacement = bodyFatMissing[\"Abdomen\"].fillna(bodyFatMissing[\"Abdomen\"].mean())"
   ],
   "metadata": {
    "collapsed": false,
    "pycharm": {
     "name": "#%%\n",
     "is_executing": false
    }
   }
  },
  {
   "cell_type": "markdown",
   "source": [
    "Let us try replacing the missing items with the median:"
   ],
   "metadata": {
    "collapsed": false,
    "pycharm": {
     "name": "#%% md\n"
    }
   }
  },
  {
   "cell_type": "code",
   "execution_count": 6,
   "outputs": [],
   "source": [
    "medianReplacement = bodyFatMissing[\"Abdomen\"].fillna(bodyFatMissing[\"Abdomen\"].median())"
   ],
   "metadata": {
    "collapsed": false,
    "pycharm": {
     "name": "#%%\n",
     "is_executing": false
    }
   }
  },
  {
   "cell_type": "markdown",
   "source": [
    "We can plot histograms in order to see the effects of our imputation.\n",
    "Original"
   ],
   "metadata": {
    "collapsed": false
   }
  },
  {
   "cell_type": "code",
   "execution_count": 7,
   "outputs": [
    {
     "data": {
      "text/plain": "<matplotlib.axes._subplots.AxesSubplot at 0x1166e0400>"
     },
     "metadata": {},
     "output_type": "execute_result",
     "execution_count": 7
    },
    {
     "data": {
      "text/plain": "<Figure size 432x288 with 1 Axes>",
      "image/png": "[encoded data removed]"
     },
     "metadata": {
      "needs_background": "light"
     },
     "output_type": "display_data"
    }
   ],
   "source": [
    "#Plot histogram\n",
    "# original\n",
    "bodyFat[\"Abdomen\"].plot.hist(bins=50, title = \"Original\")"
   ],
   "metadata": {
    "collapsed": false,
    "pycharm": {
     "name": "#%%\n",
     "is_executing": false
    }
   }
  },
  {
   "cell_type": "markdown",
   "source": [
    "Mean"
   ],
   "metadata": {
    "collapsed": false
   }
  },
  {
   "cell_type": "code",
   "execution_count": 8,
   "outputs": [
    {
     "data": {
      "text/plain": "<matplotlib.axes._subplots.AxesSubplot at 0x1188265e0>"
     },
     "metadata": {},
     "output_type": "execute_result",
     "execution_count": 8
    },
    {
     "data": {
      "text/plain": "<Figure size 432x288 with 1 Axes>",
      "image/png": "[encoded data removed]"
     },
     "metadata": {
      "needs_background": "light"
     },
     "output_type": "display_data"
    }
   ],
   "source": [
    "meanReplacement.plot.hist(bins = 50 , title = \"Mean\", color = \"Pink\")"
   ],
   "metadata": {
    "collapsed": false,
    "pycharm": {
     "name": "#%%\n",
     "is_executing": false
    }
   }
  },
  {
   "cell_type": "markdown",
   "source": [
    "Median"
   ],
   "metadata": {
    "collapsed": false
   }
  },
  {
   "cell_type": "code",
   "execution_count": 9,
   "outputs": [
    {
     "data": {
      "text/plain": "<matplotlib.axes._subplots.AxesSubplot at 0x118a2c610>"
     },
     "metadata": {},
     "output_type": "execute_result",
     "execution_count": 9
    },
    {
     "data": {
      "text/plain": "<Figure size 432x288 with 1 Axes>",
      "image/png": "[encoded data removed]"
     },
     "metadata": {
      "needs_background": "light"
     },
     "output_type": "display_data"
    }
   ],
   "source": [
    "medianReplacement.plot.hist(bins=50, title = \"Median\", color = \"Green\")"
   ],
   "metadata": {
    "collapsed": false,
    "pycharm": {
     "name": "#%%\n",
     "is_executing": false
    }
   }
  },
  {
   "cell_type": "markdown",
   "source": [
    "Plot Histogram overlaid "
   ],
   "metadata": {
    "collapsed": false
   }
  },
  {
   "cell_type": "code",
   "execution_count": 10,
   "outputs": [
    {
     "data": {
      "text/plain": "<Figure size 432x288 with 1 Axes>",
      "image/png": "[encoded data removed]"
     },
     "metadata": {
      "needs_background": "light"
     },
     "output_type": "display_data"
    }
   ],
   "source": [
    "pyplot.hist(bodyFat[\"Abdomen\"], bins=50, alpha=0.3, label=\"Original\", histtype=\"step\", stacked=True, fill=False)\n",
    "pyplot.hist(meanReplacement, bins=50, color=\"red\", alpha=0.3, label=\"Replaced with mean\",histtype=\"step\", stacked=True, fill=False) \n",
    "pyplot.hist(medianReplacement, bins=50, color=\"green\", alpha=0.3,label=\"Replaced with Median\",histtype=\"step\", stacked=True, fill=False)\n",
    "pyplot.legend(loc=\"upper right\")\n",
    "pyplot.xlabel(\"Abdomen Circumference (cm)\")\n",
    "pyplot.ylabel(\"Frequency\")\n",
    "pyplot.title(\"Plot Overlaid\")\n",
    "pyplot.show()"
   ],
   "metadata": {
    "collapsed": false,
    "pycharm": {
     "name": "#%%\n",
     "is_executing": false
    }
   }
  },
  {
   "cell_type": "markdown",
   "source": [
    "## 1.3 Discretisation & Binarisation\n",
    "### 1.3.1 Discretisation"
   ],
   "metadata": {
    "collapsed": false
   }
  },
  {
   "cell_type": "code",
   "execution_count": 11,
   "outputs": [],
   "source": [
    "bins = [18,25,35,45,65,100]\n",
    "group_labels = [\"Youth\", \"YoungAdult\", \"Adult\", \"MiddelAge\", \"Senior\"]\n",
    "bodyFat[\"AgeGroups\"] = pd.cut(bodyFat[\"Age\"], bins, labels= group_labels)"
   ],
   "metadata": {
    "collapsed": false,
    "pycharm": {
     "name": "#%%\n",
     "is_executing": false
    }
   }
  },
  {
   "cell_type": "markdown",
   "source": [
    "### 1.3.2 Binarisation"
   ],
   "metadata": {
    "collapsed": false
   }
  },
  {
   "cell_type": "code",
   "execution_count": 24,
   "outputs": [
    {
     "data": {
      "text/plain": "   id  Density  bodyfat  Age  Weight  Height  Neck  Chest  Abdomen    Hip  \\\n0   1   1.0708     12.3   23  154.25   67.75  36.2   93.1     85.2   94.5   \n1   2   1.0853      6.1   22  173.25   72.25  38.5   93.6     83.0   98.7   \n2   3   1.0414     25.3   22  154.00   66.25  34.0   95.8     87.9   99.2   \n3   4   1.0751     10.4   26  184.75   72.25  37.4  101.8     86.4  101.2   \n4   5   1.0340     28.7   24  184.25   71.25  34.4   97.3    100.0  101.9   \n\n   Thigh  Knee  Ankle  Biceps  Forearm  Wrist   AgeGroups  Tall  \n0   59.0  37.3   21.9    32.0     27.4   17.1       Youth     0  \n1   58.7  37.3   23.4    30.5     28.9   18.2       Youth     1  \n2   59.6  38.9   24.0    28.8     25.2   16.6       Youth     0  \n3   60.1  37.3   22.8    32.4     29.4   18.2  YoungAdult     1  \n4   63.2  42.2   24.0    32.2     27.7   17.7       Youth     0  ",
      "text/html": "<div>\n<style scoped>\n    .dataframe tbody tr th:only-of-type {\n        vertical-align: middle;\n    }\n\n    .dataframe tbody tr th {\n        vertical-align: top;\n    }\n\n    .dataframe thead th {\n        text-align: right;\n    }\n</style>\n<table border=\"1\" class=\"dataframe\">\n  <thead>\n    <tr style=\"text-align: right;\">\n      <th></th>\n      <th>id</th>\n      <th>Density</th>\n      <th>bodyfat</th>\n      <th>Age</th>\n      <th>Weight</th>\n      <th>Height</th>\n      <th>Neck</th>\n      <th>Chest</th>\n      <th>Abdomen</th>\n      <th>Hip</th>\n      <th>Thigh</th>\n      <th>Knee</th>\n      <th>Ankle</th>\n      <th>Biceps</th>\n      <th>Forearm</th>\n      <th>Wrist</th>\n      <th>AgeGroups</th>\n      <th>Tall</th>\n    </tr>\n  </thead>\n  <tbody>\n    <tr>\n      <th>0</th>\n      <td>1</td>\n      <td>1.0708</td>\n      <td>12.3</td>\n      <td>23</td>\n      <td>154.25</td>\n      <td>67.75</td>\n      <td>36.2</td>\n      <td>93.1</td>\n      <td>85.2</td>\n      <td>94.5</td>\n      <td>59.0</td>\n      <td>37.3</td>\n      <td>21.9</td>\n      <td>32.0</td>\n      <td>27.4</td>\n      <td>17.1</td>\n      <td>Youth</td>\n      <td>0</td>\n    </tr>\n    <tr>\n      <th>1</th>\n      <td>2</td>\n      <td>1.0853</td>\n      <td>6.1</td>\n      <td>22</td>\n      <td>173.25</td>\n      <td>72.25</td>\n      <td>38.5</td>\n      <td>93.6</td>\n      <td>83.0</td>\n      <td>98.7</td>\n      <td>58.7</td>\n      <td>37.3</td>\n      <td>23.4</td>\n      <td>30.5</td>\n      <td>28.9</td>\n      <td>18.2</td>\n      <td>Youth</td>\n      <td>1</td>\n    </tr>\n    <tr>\n      <th>2</th>\n      <td>3</td>\n      <td>1.0414</td>\n      <td>25.3</td>\n      <td>22</td>\n      <td>154.00</td>\n      <td>66.25</td>\n      <td>34.0</td>\n      <td>95.8</td>\n      <td>87.9</td>\n      <td>99.2</td>\n      <td>59.6</td>\n      <td>38.9</td>\n      <td>24.0</td>\n      <td>28.8</td>\n      <td>25.2</td>\n      <td>16.6</td>\n      <td>Youth</td>\n      <td>0</td>\n    </tr>\n    <tr>\n      <th>3</th>\n      <td>4</td>\n      <td>1.0751</td>\n      <td>10.4</td>\n      <td>26</td>\n      <td>184.75</td>\n      <td>72.25</td>\n      <td>37.4</td>\n      <td>101.8</td>\n      <td>86.4</td>\n      <td>101.2</td>\n      <td>60.1</td>\n      <td>37.3</td>\n      <td>22.8</td>\n      <td>32.4</td>\n      <td>29.4</td>\n      <td>18.2</td>\n      <td>YoungAdult</td>\n      <td>1</td>\n    </tr>\n    <tr>\n      <th>4</th>\n      <td>5</td>\n      <td>1.0340</td>\n      <td>28.7</td>\n      <td>24</td>\n      <td>184.25</td>\n      <td>71.25</td>\n      <td>34.4</td>\n      <td>97.3</td>\n      <td>100.0</td>\n      <td>101.9</td>\n      <td>63.2</td>\n      <td>42.2</td>\n      <td>24.0</td>\n      <td>32.2</td>\n      <td>27.7</td>\n      <td>17.7</td>\n      <td>Youth</td>\n      <td>0</td>\n    </tr>\n  </tbody>\n</table>\n</div>"
     },
     "metadata": {},
     "output_type": "execute_result",
     "execution_count": 24
    }
   ],
   "source": [
    "bodyFat['Tall'] = bodyFat.apply (lambda row:  1 if row[\"Height\"] > 72 else 0, axis=1)\n",
    "bodyFat.head()"
   ],
   "metadata": {
    "collapsed": false,
    "pycharm": {
     "name": "#%%\n",
     "is_executing": false
    }
   }
  },
  {
   "cell_type": "markdown",
   "source": [
    "writing new file"
   ],
   "metadata": {
    "collapsed": false,
    "pycharm": {
     "name": "#%% md\n"
    }
   }
  },
  {
   "cell_type": "code",
   "execution_count": 26,
   "outputs": [],
   "source": [
    "bodyFat.to_csv(\"bodyfat_new.csv\")"
   ],
   "metadata": {
    "collapsed": false,
    "pycharm": {
     "name": "#%%\n",
     "is_executing": false
    }
   }
  },
  {
   "cell_type": "markdown",
   "source": [
    "##1.4 Merging Data\n",
    "\n",
    "Import the three files: guitars.csv, guitarPayment.csv and retailers.csv"
   ],
   "metadata": {
    "collapsed": false
   }
  },
  {
   "cell_type": "code",
   "execution_count": 20,
   "outputs": [
    {
     "data": {
      "text/plain": "   order_id  customer_id            brand              model  \\\n0     47856           72  Paul Reed Smith          Custom 22   \n1     47857           63           Fender       Stratocaster   \n2     47858           60           Gibson  Les Paul Standard   \n3     47859           69           Ibanez        SA460QM-ABB   \n4     47860           33          Jackson              Dinky   \n\n                colour  use_type_id  \n0                Black            3  \n1      Fire Engine Red            2  \n2             Sunburst            1  \n3  Antique Brown Burst            3  \n4               Yellow            3  ",
      "text/html": "<div>\n<style scoped>\n    .dataframe tbody tr th:only-of-type {\n        vertical-align: middle;\n    }\n\n    .dataframe tbody tr th {\n        vertical-align: top;\n    }\n\n    .dataframe thead th {\n        text-align: right;\n    }\n</style>\n<table border=\"1\" class=\"dataframe\">\n  <thead>\n    <tr style=\"text-align: right;\">\n      <th></th>\n      <th>order_id</th>\n      <th>customer_id</th>\n      <th>brand</th>\n      <th>model</th>\n      <th>colour</th>\n      <th>use_type_id</th>\n    </tr>\n  </thead>\n  <tbody>\n    <tr>\n      <th>0</th>\n      <td>47856</td>\n      <td>72</td>\n      <td>Paul Reed Smith</td>\n      <td>Custom 22</td>\n      <td>Black</td>\n      <td>3</td>\n    </tr>\n    <tr>\n      <th>1</th>\n      <td>47857</td>\n      <td>63</td>\n      <td>Fender</td>\n      <td>Stratocaster</td>\n      <td>Fire Engine Red</td>\n      <td>2</td>\n    </tr>\n    <tr>\n      <th>2</th>\n      <td>47858</td>\n      <td>60</td>\n      <td>Gibson</td>\n      <td>Les Paul Standard</td>\n      <td>Sunburst</td>\n      <td>1</td>\n    </tr>\n    <tr>\n      <th>3</th>\n      <td>47859</td>\n      <td>69</td>\n      <td>Ibanez</td>\n      <td>SA460QM-ABB</td>\n      <td>Antique Brown Burst</td>\n      <td>3</td>\n    </tr>\n    <tr>\n      <th>4</th>\n      <td>47860</td>\n      <td>33</td>\n      <td>Jackson</td>\n      <td>Dinky</td>\n      <td>Yellow</td>\n      <td>3</td>\n    </tr>\n  </tbody>\n</table>\n</div>"
     },
     "metadata": {},
     "output_type": "execute_result",
     "execution_count": 20
    }
   ],
   "source": [
    "guitars = pd.read_csv(\"guitars.csv\")\n",
    "guitarPayment = pd.read_csv(\"guitarPayment.csv\")\n",
    "retailers = pd.read_csv(\"retailers.csv\")\n",
    "guitars.head()"
   ],
   "metadata": {
    "collapsed": false,
    "pycharm": {
     "name": "#%%\n",
     "is_executing": false
    }
   }
  },
  {
   "cell_type": "code",
   "execution_count": 18,
   "outputs": [
    {
     "data": {
      "text/plain": "   cost_per_month  interest_rate_per_month  loyalty_points  order_id\n0             185                     2.77            1.85     47861\n1             411                     6.17            4.11     47862\n2             420                     6.30            4.20     47863\n3             236                     3.54            2.36     47864\n4             115                     1.72            1.15     47865",
      "text/html": "<div>\n<style scoped>\n    .dataframe tbody tr th:only-of-type {\n        vertical-align: middle;\n    }\n\n    .dataframe tbody tr th {\n        vertical-align: top;\n    }\n\n    .dataframe thead th {\n        text-align: right;\n    }\n</style>\n<table border=\"1\" class=\"dataframe\">\n  <thead>\n    <tr style=\"text-align: right;\">\n      <th></th>\n      <th>cost_per_month</th>\n      <th>interest_rate_per_month</th>\n      <th>loyalty_points</th>\n      <th>order_id</th>\n    </tr>\n  </thead>\n  <tbody>\n    <tr>\n      <th>0</th>\n      <td>185</td>\n      <td>2.77</td>\n      <td>1.85</td>\n      <td>47861</td>\n    </tr>\n    <tr>\n      <th>1</th>\n      <td>411</td>\n      <td>6.17</td>\n      <td>4.11</td>\n      <td>47862</td>\n    </tr>\n    <tr>\n      <th>2</th>\n      <td>420</td>\n      <td>6.30</td>\n      <td>4.20</td>\n      <td>47863</td>\n    </tr>\n    <tr>\n      <th>3</th>\n      <td>236</td>\n      <td>3.54</td>\n      <td>2.36</td>\n      <td>47864</td>\n    </tr>\n    <tr>\n      <th>4</th>\n      <td>115</td>\n      <td>1.72</td>\n      <td>1.15</td>\n      <td>47865</td>\n    </tr>\n  </tbody>\n</table>\n</div>"
     },
     "metadata": {},
     "output_type": "execute_result",
     "execution_count": 18
    }
   ],
   "source": [
    "guitarPayment.head()"
   ],
   "metadata": {
    "collapsed": false,
    "pycharm": {
     "name": "#%%\n",
     "is_executing": false
    }
   }
  },
  {
   "cell_type": "code",
   "execution_count": 19,
   "outputs": [
    {
     "data": {
      "text/plain": "        Retailer        Location  Customer              model\n0      Andertons       Guildford        72          Custom 22\n1  Wunjo Guitars          London        63       Stratocaster\n2     Pro Musica            Cork        60  Les Paul Standard\n3        Waltons  Blanchardstown        69        SA460QM-ABB\n4    Music Minds          Dublin        33              Dinky",
      "text/html": "<div>\n<style scoped>\n    .dataframe tbody tr th:only-of-type {\n        vertical-align: middle;\n    }\n\n    .dataframe tbody tr th {\n        vertical-align: top;\n    }\n\n    .dataframe thead th {\n        text-align: right;\n    }\n</style>\n<table border=\"1\" class=\"dataframe\">\n  <thead>\n    <tr style=\"text-align: right;\">\n      <th></th>\n      <th>Retailer</th>\n      <th>Location</th>\n      <th>Customer</th>\n      <th>model</th>\n    </tr>\n  </thead>\n  <tbody>\n    <tr>\n      <th>0</th>\n      <td>Andertons</td>\n      <td>Guildford</td>\n      <td>72</td>\n      <td>Custom 22</td>\n    </tr>\n    <tr>\n      <th>1</th>\n      <td>Wunjo Guitars</td>\n      <td>London</td>\n      <td>63</td>\n      <td>Stratocaster</td>\n    </tr>\n    <tr>\n      <th>2</th>\n      <td>Pro Musica</td>\n      <td>Cork</td>\n      <td>60</td>\n      <td>Les Paul Standard</td>\n    </tr>\n    <tr>\n      <th>3</th>\n      <td>Waltons</td>\n      <td>Blanchardstown</td>\n      <td>69</td>\n      <td>SA460QM-ABB</td>\n    </tr>\n    <tr>\n      <th>4</th>\n      <td>Music Minds</td>\n      <td>Dublin</td>\n      <td>33</td>\n      <td>Dinky</td>\n    </tr>\n  </tbody>\n</table>\n</div>"
     },
     "metadata": {},
     "output_type": "execute_result",
     "execution_count": 19
    }
   ],
   "source": [
    "retailers.head()"
   ],
   "metadata": {
    "collapsed": false,
    "pycharm": {
     "name": "#%%\n",
     "is_executing": false
    }
   }
  },
  {
   "cell_type": "markdown",
   "source": [
    "Merge ‘guitars’ and ‘guitarPayments’ on ‘order_id’ using an outer join. What do you notice?"
   ],
   "metadata": {
    "collapsed": false
   }
  },
  {
   "cell_type": "code",
   "execution_count": 30,
   "outputs": [
    {
     "data": {
      "text/plain": "   order_id  customer_id            brand              model  \\\n0     47856         72.0  Paul Reed Smith          Custom 22   \n1     47857         63.0           Fender       Stratocaster   \n2     47858         60.0           Gibson  Les Paul Standard   \n3     47859         69.0           Ibanez        SA460QM-ABB   \n4     47860         33.0          Jackson              Dinky   \n\n                colour  use_type_id  cost_per_month  interest_rate_per_month  \\\n0                Black          3.0             NaN                      NaN   \n1      Fire Engine Red          2.0             NaN                      NaN   \n2             Sunburst          1.0             NaN                      NaN   \n3  Antique Brown Burst          3.0             NaN                      NaN   \n4               Yellow          3.0             NaN                      NaN   \n\n   loyalty_points  \n0             NaN  \n1             NaN  \n2             NaN  \n3             NaN  \n4             NaN  ",
      "text/html": "<div>\n<style scoped>\n    .dataframe tbody tr th:only-of-type {\n        vertical-align: middle;\n    }\n\n    .dataframe tbody tr th {\n        vertical-align: top;\n    }\n\n    .dataframe thead th {\n        text-align: right;\n    }\n</style>\n<table border=\"1\" class=\"dataframe\">\n  <thead>\n    <tr style=\"text-align: right;\">\n      <th></th>\n      <th>order_id</th>\n      <th>customer_id</th>\n      <th>brand</th>\n      <th>model</th>\n      <th>colour</th>\n      <th>use_type_id</th>\n      <th>cost_per_month</th>\n      <th>interest_rate_per_month</th>\n      <th>loyalty_points</th>\n    </tr>\n  </thead>\n  <tbody>\n    <tr>\n      <th>0</th>\n      <td>47856</td>\n      <td>72.0</td>\n      <td>Paul Reed Smith</td>\n      <td>Custom 22</td>\n      <td>Black</td>\n      <td>3.0</td>\n      <td>NaN</td>\n      <td>NaN</td>\n      <td>NaN</td>\n    </tr>\n    <tr>\n      <th>1</th>\n      <td>47857</td>\n      <td>63.0</td>\n      <td>Fender</td>\n      <td>Stratocaster</td>\n      <td>Fire Engine Red</td>\n      <td>2.0</td>\n      <td>NaN</td>\n      <td>NaN</td>\n      <td>NaN</td>\n    </tr>\n    <tr>\n      <th>2</th>\n      <td>47858</td>\n      <td>60.0</td>\n      <td>Gibson</td>\n      <td>Les Paul Standard</td>\n      <td>Sunburst</td>\n      <td>1.0</td>\n      <td>NaN</td>\n      <td>NaN</td>\n      <td>NaN</td>\n    </tr>\n    <tr>\n      <th>3</th>\n      <td>47859</td>\n      <td>69.0</td>\n      <td>Ibanez</td>\n      <td>SA460QM-ABB</td>\n      <td>Antique Brown Burst</td>\n      <td>3.0</td>\n      <td>NaN</td>\n      <td>NaN</td>\n      <td>NaN</td>\n    </tr>\n    <tr>\n      <th>4</th>\n      <td>47860</td>\n      <td>33.0</td>\n      <td>Jackson</td>\n      <td>Dinky</td>\n      <td>Yellow</td>\n      <td>3.0</td>\n      <td>NaN</td>\n      <td>NaN</td>\n      <td>NaN</td>\n    </tr>\n  </tbody>\n</table>\n</div>"
     },
     "metadata": {},
     "output_type": "execute_result",
     "execution_count": 30
    }
   ],
   "source": [
    "mergedone = pd.merge(guitars, guitarPayment, on=\"order_id\", how=\"outer\")\n",
    "mergedone.head()"
   ],
   "metadata": {
    "collapsed": false,
    "pycharm": {
     "name": "#%%\n",
     "is_executing": false
    }
   }
  },
  {
   "cell_type": "markdown",
   "source": [
    "Now try using an inner join. What’s the difference now?"
   ],
   "metadata": {
    "collapsed": false,
    "pycharm": {
     "name": "#%% md\n"
    }
   }
  },
  {
   "cell_type": "code",
   "execution_count": 29,
   "outputs": [
    {
     "data": {
      "text/plain": "   order_id  customer_id         brand         model    colour  use_type_id  \\\n0     47861           76      Schecter    Hellraiser    Purple            1   \n1     47862           32       Epihone           Dot  Sunburst            1   \n2     47863           25  Rickenbacker  Model 330 12    Blonde            2   \n3     47864           57           G&L     Fullerton    Yellow            1   \n4     47865           66       Charvel       Pro-Mod     Green            3   \n\n   cost_per_month  interest_rate_per_month  loyalty_points  \n0             185                     2.77            1.85  \n1             411                     6.17            4.11  \n2             420                     6.30            4.20  \n3             236                     3.54            2.36  \n4             115                     1.72            1.15  ",
      "text/html": "<div>\n<style scoped>\n    .dataframe tbody tr th:only-of-type {\n        vertical-align: middle;\n    }\n\n    .dataframe tbody tr th {\n        vertical-align: top;\n    }\n\n    .dataframe thead th {\n        text-align: right;\n    }\n</style>\n<table border=\"1\" class=\"dataframe\">\n  <thead>\n    <tr style=\"text-align: right;\">\n      <th></th>\n      <th>order_id</th>\n      <th>customer_id</th>\n      <th>brand</th>\n      <th>model</th>\n      <th>colour</th>\n      <th>use_type_id</th>\n      <th>cost_per_month</th>\n      <th>interest_rate_per_month</th>\n      <th>loyalty_points</th>\n    </tr>\n  </thead>\n  <tbody>\n    <tr>\n      <th>0</th>\n      <td>47861</td>\n      <td>76</td>\n      <td>Schecter</td>\n      <td>Hellraiser</td>\n      <td>Purple</td>\n      <td>1</td>\n      <td>185</td>\n      <td>2.77</td>\n      <td>1.85</td>\n    </tr>\n    <tr>\n      <th>1</th>\n      <td>47862</td>\n      <td>32</td>\n      <td>Epihone</td>\n      <td>Dot</td>\n      <td>Sunburst</td>\n      <td>1</td>\n      <td>411</td>\n      <td>6.17</td>\n      <td>4.11</td>\n    </tr>\n    <tr>\n      <th>2</th>\n      <td>47863</td>\n      <td>25</td>\n      <td>Rickenbacker</td>\n      <td>Model 330 12</td>\n      <td>Blonde</td>\n      <td>2</td>\n      <td>420</td>\n      <td>6.30</td>\n      <td>4.20</td>\n    </tr>\n    <tr>\n      <th>3</th>\n      <td>47864</td>\n      <td>57</td>\n      <td>G&amp;L</td>\n      <td>Fullerton</td>\n      <td>Yellow</td>\n      <td>1</td>\n      <td>236</td>\n      <td>3.54</td>\n      <td>2.36</td>\n    </tr>\n    <tr>\n      <th>4</th>\n      <td>47865</td>\n      <td>66</td>\n      <td>Charvel</td>\n      <td>Pro-Mod</td>\n      <td>Green</td>\n      <td>3</td>\n      <td>115</td>\n      <td>1.72</td>\n      <td>1.15</td>\n    </tr>\n  </tbody>\n</table>\n</div>"
     },
     "metadata": {},
     "output_type": "execute_result",
     "execution_count": 29
    }
   ],
   "source": [
    "mergedtwo = pd.merge(guitars, guitarPayment, on=\"order_id\", how=\"inner\")\n",
    "mergedtwo.head()"
   ],
   "metadata": {
    "collapsed": false,
    "pycharm": {
     "name": "#%%\n",
     "is_executing": false
    }
   }
  },
  {
   "cell_type": "code",
   "execution_count": 32,
   "outputs": [
    {
     "data": {
      "text/plain": "   order_id  customer_id     brand       model    colour  use_type_id  \\\n0     47861           76  Schecter  Hellraiser    Purple            1   \n1     47862           32   Epihone         Dot  Sunburst            1   \n2     47862           32   Epihone         Dot  Sunburst            1   \n3     47868           39   Epihone         Dot  Sunburst            3   \n4     47868           39   Epihone         Dot  Sunburst            3   \n\n   cost_per_month  interest_rate_per_month  loyalty_points    Retailer  \\\n0             185                     2.77            1.85     X Music   \n1             411                     6.17            4.11   Andertons   \n2             411                     6.17            4.11  Pro Musica   \n3             347                     5.21            3.47   Andertons   \n4             347                     5.21            3.47  Pro Musica   \n\n    Location  Customer  \n0     Dublin        76  \n1  Guildford        32  \n2       Cork        39  \n3  Guildford        32  \n4       Cork        39  ",
      "text/html": "<div>\n<style scoped>\n    .dataframe tbody tr th:only-of-type {\n        vertical-align: middle;\n    }\n\n    .dataframe tbody tr th {\n        vertical-align: top;\n    }\n\n    .dataframe thead th {\n        text-align: right;\n    }\n</style>\n<table border=\"1\" class=\"dataframe\">\n  <thead>\n    <tr style=\"text-align: right;\">\n      <th></th>\n      <th>order_id</th>\n      <th>customer_id</th>\n      <th>brand</th>\n      <th>model</th>\n      <th>colour</th>\n      <th>use_type_id</th>\n      <th>cost_per_month</th>\n      <th>interest_rate_per_month</th>\n      <th>loyalty_points</th>\n      <th>Retailer</th>\n      <th>Location</th>\n      <th>Customer</th>\n    </tr>\n  </thead>\n  <tbody>\n    <tr>\n      <th>0</th>\n      <td>47861</td>\n      <td>76</td>\n      <td>Schecter</td>\n      <td>Hellraiser</td>\n      <td>Purple</td>\n      <td>1</td>\n      <td>185</td>\n      <td>2.77</td>\n      <td>1.85</td>\n      <td>X Music</td>\n      <td>Dublin</td>\n      <td>76</td>\n    </tr>\n    <tr>\n      <th>1</th>\n      <td>47862</td>\n      <td>32</td>\n      <td>Epihone</td>\n      <td>Dot</td>\n      <td>Sunburst</td>\n      <td>1</td>\n      <td>411</td>\n      <td>6.17</td>\n      <td>4.11</td>\n      <td>Andertons</td>\n      <td>Guildford</td>\n      <td>32</td>\n    </tr>\n    <tr>\n      <th>2</th>\n      <td>47862</td>\n      <td>32</td>\n      <td>Epihone</td>\n      <td>Dot</td>\n      <td>Sunburst</td>\n      <td>1</td>\n      <td>411</td>\n      <td>6.17</td>\n      <td>4.11</td>\n      <td>Pro Musica</td>\n      <td>Cork</td>\n      <td>39</td>\n    </tr>\n    <tr>\n      <th>3</th>\n      <td>47868</td>\n      <td>39</td>\n      <td>Epihone</td>\n      <td>Dot</td>\n      <td>Sunburst</td>\n      <td>3</td>\n      <td>347</td>\n      <td>5.21</td>\n      <td>3.47</td>\n      <td>Andertons</td>\n      <td>Guildford</td>\n      <td>32</td>\n    </tr>\n    <tr>\n      <th>4</th>\n      <td>47868</td>\n      <td>39</td>\n      <td>Epihone</td>\n      <td>Dot</td>\n      <td>Sunburst</td>\n      <td>3</td>\n      <td>347</td>\n      <td>5.21</td>\n      <td>3.47</td>\n      <td>Pro Musica</td>\n      <td>Cork</td>\n      <td>39</td>\n    </tr>\n  </tbody>\n</table>\n</div>"
     },
     "metadata": {},
     "output_type": "execute_result",
     "execution_count": 32
    }
   ],
   "source": [
    " mergedThree = pd.merge(mergedtwo, retailers, how='inner')\n",
    " mergedThree.head()\n",
    " "
   ],
   "metadata": {
    "collapsed": false,
    "pycharm": {
     "name": "#%%\n",
     "is_executing": false
    }
   }
  },
  {
   "cell_type": "code",
   "execution_count": 33,
   "outputs": [
    {
     "data": {
      "text/plain": "(24, 12)"
     },
     "metadata": {},
     "output_type": "execute_result",
     "execution_count": 33
    }
   ],
   "source": [
    " mergedThree.shape"
   ],
   "metadata": {
    "collapsed": false,
    "pycharm": {
     "name": "#%%\n",
     "is_executing": false
    }
   }
  },
  {
   "cell_type": "code",
   "execution_count": 34,
   "outputs": [
    {
     "data": {
      "text/plain": "(24, 11)"
     },
     "metadata": {},
     "output_type": "execute_result",
     "execution_count": 34
    }
   ],
   "source": [
    " mergedThree = mergedThree.drop(columns = \"Customer\")\n",
    " mergedThree.shape\n",
    " "
   ],
   "metadata": {
    "collapsed": false,
    "pycharm": {
     "name": "#%%\n",
     "is_executing": false
    }
   }
  },
  {
   "cell_type": "code",
   "execution_count": 35,
   "outputs": [
    {
     "data": {
      "text/plain": "                 cost_per_month  interest_rate_per_month  \\\nbrand                                                      \nCharvel              115.000000                 1.720000   \nEpihone              379.000000                 5.690000   \nFender               246.571429                 3.700000   \nG&L                  236.000000                 3.540000   \nGibson               351.666667                 5.273333   \nIbanez               198.000000                 2.970000   \nJackson              234.000000                 3.510000   \nPaul Reed Smith      293.500000                 4.400000   \nRickenbacker         420.000000                 6.300000   \nSchecter             185.000000                 2.770000   \n\n                                  colour  \nbrand                                     \nCharvel                            Green  \nEpihone                         Sunburst  \nFender           [Seafoam Green, Yellow]  \nG&L                               Yellow  \nGibson                          Teaburst  \nIbanez               Antique Brown Burst  \nJackson                      Silverburst  \nPaul Reed Smith     [Black Cherry, Blue]  \nRickenbacker                      Blonde  \nSchecter                          Purple  ",
      "text/html": "<div>\n<style scoped>\n    .dataframe tbody tr th:only-of-type {\n        vertical-align: middle;\n    }\n\n    .dataframe tbody tr th {\n        vertical-align: top;\n    }\n\n    .dataframe thead th {\n        text-align: right;\n    }\n</style>\n<table border=\"1\" class=\"dataframe\">\n  <thead>\n    <tr style=\"text-align: right;\">\n      <th></th>\n      <th>cost_per_month</th>\n      <th>interest_rate_per_month</th>\n      <th>colour</th>\n    </tr>\n    <tr>\n      <th>brand</th>\n      <th></th>\n      <th></th>\n      <th></th>\n    </tr>\n  </thead>\n  <tbody>\n    <tr>\n      <th>Charvel</th>\n      <td>115.000000</td>\n      <td>1.720000</td>\n      <td>Green</td>\n    </tr>\n    <tr>\n      <th>Epihone</th>\n      <td>379.000000</td>\n      <td>5.690000</td>\n      <td>Sunburst</td>\n    </tr>\n    <tr>\n      <th>Fender</th>\n      <td>246.571429</td>\n      <td>3.700000</td>\n      <td>[Seafoam Green, Yellow]</td>\n    </tr>\n    <tr>\n      <th>G&amp;L</th>\n      <td>236.000000</td>\n      <td>3.540000</td>\n      <td>Yellow</td>\n    </tr>\n    <tr>\n      <th>Gibson</th>\n      <td>351.666667</td>\n      <td>5.273333</td>\n      <td>Teaburst</td>\n    </tr>\n    <tr>\n      <th>Ibanez</th>\n      <td>198.000000</td>\n      <td>2.970000</td>\n      <td>Antique Brown Burst</td>\n    </tr>\n    <tr>\n      <th>Jackson</th>\n      <td>234.000000</td>\n      <td>3.510000</td>\n      <td>Silverburst</td>\n    </tr>\n    <tr>\n      <th>Paul Reed Smith</th>\n      <td>293.500000</td>\n      <td>4.400000</td>\n      <td>[Black Cherry, Blue]</td>\n    </tr>\n    <tr>\n      <th>Rickenbacker</th>\n      <td>420.000000</td>\n      <td>6.300000</td>\n      <td>Blonde</td>\n    </tr>\n    <tr>\n      <th>Schecter</th>\n      <td>185.000000</td>\n      <td>2.770000</td>\n      <td>Purple</td>\n    </tr>\n  </tbody>\n</table>\n</div>"
     },
     "metadata": {},
     "output_type": "execute_result",
     "execution_count": 35
    }
   ],
   "source": [
    " mergedThree.groupby(\"brand\").agg({\n",
    "        \"cost_per_month\": \"mean\",\n",
    "        \"interest_rate_per_month\": \"mean\",\n",
    "        \"colour\": pd.Series.mode\n",
    "    })"
   ],
   "metadata": {
    "collapsed": false,
    "pycharm": {
     "name": "#%%\n",
     "is_executing": false
    }
   }
  }
 ],
 "metadata": {
  "kernelspec": {
   "display_name": "Python 3",
   "language": "python",
   "name": "python3"
  },
  "language_info": {
   "codemirror_mode": {
    "name": "ipython",
    "version": 2
   },
   "file_extension": ".py",
   "mimetype": "text/x-python",
   "name": "python",
   "nbconvert_exporter": "python",
   "pygments_lexer": "ipython2",
   "version": "2.7.6"
  },
  "pycharm": {
   "stem_cell": {
    "cell_type": "raw",
    "source": [],
    "metadata": {
     "collapsed": false
    }
   }
  }
 },
 "nbformat": 4,
 "nbformat_minor": 0
}